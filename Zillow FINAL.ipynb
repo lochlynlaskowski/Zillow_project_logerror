{
 "cells": [
  {
   "cell_type": "code",
   "execution_count": 461,
   "id": "a9296930",
   "metadata": {},
   "outputs": [],
   "source": [
    "import warnings\n",
    "warnings.filterwarnings(\"ignore\")\n",
    "import pandas as pd\n",
    "import os\n",
    "from env import get_db_url\n",
    "import matplotlib.pyplot as plt\n",
    "import seaborn as sns\n",
    "import numpy as np\n",
    "from sklearn.model_selection import train_test_split\n",
    "import sklearn.preprocessing\n",
    "import wrangle_zillow\n",
    "import scipy.stats as stats\n",
    "alpha = .05\n",
    "from sklearn.cluster import KMeans\n",
    "from sklearn.metrics import mean_squared_error\n",
    "from sklearn.linear_model import LinearRegression, LassoLars, TweedieRegressor\n",
    "from sklearn.preprocessing import PolynomialFeatures"
   ]
  },
  {
   "cell_type": "markdown",
   "id": "dd12cce9",
   "metadata": {},
   "source": [
    "### What is driving the errors in the Zestimates?\n",
    "\n",
    "Project Goal: \n",
    "- Determine drives of logerror within Zillow's model utilizing regression models. \n",
    "- Create clusters and explore data within them.\n",
    "- Create a regression model that out performs Zillow's model when predicting log error.\n",
    "\n",
    "Note* In the prior Zillow project, I asked for additional time to explore geographical impacts, this project will explore mostly location based clusters.\n",
    "\n",
    "\n",
    "Initial Hypotheses:\n",
    "- Log error depends on the geographic location. \n",
    "- Age, square feet, and tax value are related to log error.\n",
    "\n",
    "Conclusions:\n",
    "- Each geographic location has it's own features that drive log error.\n",
    "- Polynomial regression model was able to outperform Zillow's model on 4 out of 7 counties.\n",
    "- The best performing model was tested on a subset of a cluster- Region 5C.\n"
   ]
  },
  {
   "cell_type": "markdown",
   "id": "e6c9b1f2",
   "metadata": {},
   "source": [
    "### Acquire\n",
    "\n",
    "- Zillow data was acquired from the Codeup database.\n",
    "- The original dataset was comprosied of 68 columns and 52,441 rows."
   ]
  },
  {
   "cell_type": "code",
   "execution_count": null,
   "id": "c34fc846",
   "metadata": {},
   "outputs": [],
   "source": [
    "df = wrangle_zillow.get_zillow_data()"
   ]
  },
  {
   "cell_type": "markdown",
   "id": "c3bc986a",
   "metadata": {},
   "source": [
    "### Prepare\n",
    "\n",
    "- Preparation steps include:\n",
    "    - Removing columns and rows with more than 30% data missing.\n",
    "    - Removed additional rows with null values.\n",
    "    - IQR outlier function utilized    \n",
    "    - Converted data types to integers\n",
    "    - Labeled counties by name\n",
    "    - Removed erroneous or duplicated columns\n",
    "    - Created age, month_of_sale, taxvalue_per_sqft\n",
    "    - Remaining data comprised of 15 columns and 33,660 rows\n",
    "\n",
    "\n",
    "- Data dictionary\n",
    "    - logerror (**target**)\n",
    "    - bathroomcnt\n",
    "    - bedroomcnt\n",
    "    - calculatedfinishedsquarefeet\n",
    "    - fips - converted to Orange, LA, and Ventura counties\n",
    "    - latitude\n",
    "    - longitude\n",
    "    - lotsizesquarefeet\n",
    "    - yearbuilt\n",
    "    - taxvaluedollarcnt (tax appraised value)\n",
    "    - transactiondate\n",
    "    - propertylandusedesc\n",
    "    - age(2017-yearbuilt)\n",
    "    - taxvalue_per_sqft (calculatedfinishedsquarefeet/taxvaluedollarcnt)\n",
    "    - month of sale"
   ]
  },
  {
   "cell_type": "code",
   "execution_count": null,
   "id": "7ff600b1",
   "metadata": {},
   "outputs": [],
   "source": [
    "df = wrangle_zillow.prepare_zillow_data(df)"
   ]
  },
  {
   "cell_type": "code",
   "execution_count": null,
   "id": "37cff9b8",
   "metadata": {},
   "outputs": [],
   "source": [
    "df.head(3)"
   ]
  },
  {
   "cell_type": "code",
   "execution_count": null,
   "id": "ad5aa865",
   "metadata": {},
   "outputs": [],
   "source": [
    "# split data into train, validate, test datasets\n",
    "train, validate, test = wrangle_zillow.split_zillow_data(df)"
   ]
  },
  {
   "cell_type": "markdown",
   "id": "0c74e638",
   "metadata": {},
   "source": [
    "### Explore\n",
    "\n",
    "#### Questions to ask:\n",
    "   - Is log error dependent on county?\n",
    "   - Are log error and tax value related?\n",
    "   - Are log error and square feet related?\n",
    "   - Are log error and tax value per square feet related?\n",
    "   - Are log error and age related?"
   ]
  },
  {
   "cell_type": "code",
   "execution_count": null,
   "id": "5a5de658",
   "metadata": {},
   "outputs": [],
   "source": [
    "#create histograms for each column (utilized when deciding on appropriate hypothesis testing)\n",
    "for col in train.columns:\n",
    "    plt.figure(figsize=(8,4))\n",
    "    plt.hist(train[col])\n",
    "    plt.title(col)\n",
    "    plt.show()"
   ]
  },
  {
   "cell_type": "markdown",
   "id": "19438ee3",
   "metadata": {},
   "source": [
    "### Log error and county"
   ]
  },
  {
   "cell_type": "code",
   "execution_count": null,
   "id": "80f44528",
   "metadata": {},
   "outputs": [],
   "source": [
    "plt.figure(figsize=(10,8))\n",
    "plt.title(\"Is Log Error Dependent on County?\")\n",
    "plt.axhline(train.logerror.median(),ls= ':', color = 'red', linewidth=1)\n",
    "sns.boxplot(x=train.fips, y=train.logerror)\n",
    "plt.show()"
   ]
  },
  {
   "cell_type": "markdown",
   "id": "78ddd919",
   "metadata": {},
   "source": [
    "**Takeaway for visualization:**\n",
    "- Los Angeles County's median logerror is more closely aligned with the population's log error, while Orange and Ventura County appear to have a greater median log error.\n",
    "\n",
    "Next step:\n",
    "- Perform hypothesis testing to determine if there is a difference in each county and the population mean."
   ]
  },
  {
   "cell_type": "markdown",
   "id": "6b40eb5f",
   "metadata": {},
   "source": [
    "- Null Hypothesis: The mean logerror of LA County is >= than the population mean.\n",
    "- Alternative Hypothesis: The mean logerror of LA County is < than the population mean."
   ]
  },
  {
   "cell_type": "code",
   "execution_count": null,
   "id": "19e937fe",
   "metadata": {},
   "outputs": [],
   "source": [
    "t, p = stats.ttest_1samp(train[train.fips=='Los_Angeles'].logerror.mean(), train.logerror.mean())\n",
    "\n",
    "t, p/2\n",
    "if p/2 > alpha:\n",
    "    print(\"We fail to reject the null hypothesis.\")\n",
    "elif t > 0:\n",
    "    print(\"We fail to reject the null hypothesis.\")\n",
    "else:\n",
    "    print(\"We reject the null hypothesis.\")\n"
   ]
  },
  {
   "cell_type": "markdown",
   "id": "b033bc7f",
   "metadata": {},
   "source": [
    "- Null Hypothesis: The mean logerror of Ventura County is <= than the population mean.\n",
    "- Alternative Hypothesis: The mean logerror of Ventura County is > than the population mean."
   ]
  },
  {
   "cell_type": "code",
   "execution_count": null,
   "id": "b90b354a",
   "metadata": {},
   "outputs": [],
   "source": [
    "t, p = stats.ttest_1samp(train[train.fips=='Ventura'].logerror.mean(), train.logerror.mean())\n",
    "t, p/2\n",
    "if p/2 > alpha:\n",
    "    print(\"We fail to reject the null hypothesis.\")\n",
    "elif t < 0:\n",
    "    print(\"We fail to reject the null hypothesis.\")\n",
    "else:\n",
    "    print(\"We reject the null hypothesis.\")"
   ]
  },
  {
   "cell_type": "markdown",
   "id": "ae420ecf",
   "metadata": {},
   "source": [
    "- Null Hypothesis: The mean logerror of Orange County is <= than the population mean.\n",
    "- Alternative Hypothesis: The mean logerror of Orange County is > than the population mean."
   ]
  },
  {
   "cell_type": "code",
   "execution_count": null,
   "id": "b62d952d",
   "metadata": {},
   "outputs": [],
   "source": [
    "t, p = stats.ttest_1samp(train[train.fips=='Orange'].logerror.mean(), train.logerror.mean())\n",
    "t, p/2\n",
    "if p/2 > alpha:\n",
    "    print(\"We fail to reject the null hypothesis.\")\n",
    "elif t < 0:\n",
    "    print(\"We fail to reject the null hypothesis.\")\n",
    "else:\n",
    "    print(\"We reject the null hypothesis.\")"
   ]
  },
  {
   "cell_type": "markdown",
   "id": "29000c0e",
   "metadata": {},
   "source": [
    "**Notes: We can conclude, with statistical significance, that the means of the logerror of each county are not equal. LA County's logerror is less than the population, while Orange and Ventura counties' logerror means are greater than the population mean.**"
   ]
  },
  {
   "cell_type": "markdown",
   "id": "65a9cb8c",
   "metadata": {},
   "source": [
    "### Log error and tax value"
   ]
  },
  {
   "cell_type": "code",
   "execution_count": null,
   "id": "16fd4e54",
   "metadata": {},
   "outputs": [],
   "source": [
    "sns.lmplot(data=train, x='taxvaluedollarcnt',y='logerror',line_kws={'color':'red'})\n",
    "plt.title(\"Are Log Error and Tax Value Related?\")\n",
    "plt.show()"
   ]
  },
  {
   "cell_type": "markdown",
   "id": "c85ffdb6",
   "metadata": {},
   "source": [
    "- Null Hypothesis: There is no linear correlation between tax value and log error.\n",
    "- Alternative Hypothesis: There is a lonear correlation between tax value and log error."
   ]
  },
  {
   "cell_type": "code",
   "execution_count": null,
   "id": "192e4884",
   "metadata": {},
   "outputs": [],
   "source": [
    "# perform correlation testing on taxvaluedollar count and logerror\n",
    "alpha=.05\n",
    "corr, p = stats.spearmanr(train.taxvaluedollarcnt, train.logerror)\n",
    "p < alpha, corr, p"
   ]
  },
  {
   "cell_type": "markdown",
   "id": "26b604e6",
   "metadata": {},
   "source": [
    "**Reject the null hypothesis.**\n",
    "There is a very weak positive correlation."
   ]
  },
  {
   "cell_type": "markdown",
   "id": "d42e9abf",
   "metadata": {},
   "source": [
    "### Log error and square feet"
   ]
  },
  {
   "cell_type": "code",
   "execution_count": null,
   "id": "59aee16a",
   "metadata": {
    "scrolled": true
   },
   "outputs": [],
   "source": [
    "sns.lmplot(data=train, x='calculatedfinishedsquarefeet',y='logerror',line_kws={'color':'red'})\n",
    "plt.title(\"Are Log Error and Square Feet Related?\")\n",
    "plt.show()"
   ]
  },
  {
   "cell_type": "code",
   "execution_count": null,
   "id": "f6d76b34",
   "metadata": {},
   "outputs": [],
   "source": [
    "# perform correlation testing on square feet and logerror\n",
    "alpha=.05\n",
    "corr, p = stats.spearmanr(train.calculatedfinishedsquarefeet, train.logerror)\n",
    "p < alpha, corr, p"
   ]
  },
  {
   "cell_type": "markdown",
   "id": "22dc8da6",
   "metadata": {},
   "source": [
    "**Reject the null hypothesis.** While weak, this is the strongest correlation with log error."
   ]
  },
  {
   "cell_type": "markdown",
   "id": "115116fe",
   "metadata": {},
   "source": [
    "### Log error and tax value per square feet"
   ]
  },
  {
   "cell_type": "code",
   "execution_count": null,
   "id": "a2ddaadf",
   "metadata": {},
   "outputs": [],
   "source": [
    "sns.lmplot(data=train, x='taxvalue_per_sqft',y='logerror',line_kws={'color':'red'})\n",
    "plt.title(\"Are Log Error and Tax Value per Square Feet Related?\")\n",
    "plt.show()"
   ]
  },
  {
   "cell_type": "code",
   "execution_count": null,
   "id": "70317d81",
   "metadata": {},
   "outputs": [],
   "source": [
    "# perform correlation testing on taxvaluepersqft count and logerror\n",
    "alpha=.05\n",
    "corr, p = stats.spearmanr(train.taxvalue_per_sqft, train.logerror)\n",
    "p < alpha, corr, p"
   ]
  },
  {
   "cell_type": "markdown",
   "id": "d3e0b3fa",
   "metadata": {},
   "source": [
    "**Reject the null hypothesis.** There is a weak negative correlation."
   ]
  },
  {
   "cell_type": "markdown",
   "id": "85145a1c",
   "metadata": {},
   "source": [
    "### Log error and age"
   ]
  },
  {
   "cell_type": "code",
   "execution_count": null,
   "id": "67a30126",
   "metadata": {
    "scrolled": true
   },
   "outputs": [],
   "source": [
    "sns.lmplot(data=train, x='age',y='logerror',line_kws={'color':'red'})\n",
    "plt.title(\"Are Log Error and Age Related?\")\n",
    "plt.show()"
   ]
  },
  {
   "cell_type": "code",
   "execution_count": null,
   "id": "22ce2301",
   "metadata": {},
   "outputs": [],
   "source": [
    "# perform correlation testing on taxvaluepersqft count and logerror\n",
    "alpha=.05\n",
    "corr, p = stats.pearsonr(train.age, train.logerror)\n",
    "p < alpha, corr, p"
   ]
  },
  {
   "cell_type": "markdown",
   "id": "7f1d2225",
   "metadata": {},
   "source": [
    "**Reject the null hypothesis.** There is a weak negative correlation."
   ]
  },
  {
   "cell_type": "markdown",
   "id": "84fa826a",
   "metadata": {},
   "source": [
    "**Reject the null hypothesis.** There is a weak positive correlation."
   ]
  },
  {
   "cell_type": "markdown",
   "id": "cb052a27",
   "metadata": {},
   "source": [
    "### Answers to questions:\n",
    "- Log error differs by county.\n",
    "- Log error increases as tax values increases.\n",
    "- Log error decreases as the home of the age increases.\n",
    "- **Log error increases as the size of the home increases.**\n",
    "- Log error decreases as the tax value per square feet increases.\n",
    "- There is a relationship between log error and latitude and longitude.\n",
    "\n",
    "- The strongest correlation with log error is square feet, followed by age, latitude, tax value per square feet, longitude, and tax value.\n"
   ]
  },
  {
   "cell_type": "markdown",
   "id": "cd1c348a",
   "metadata": {},
   "source": [
    "### Clustering"
   ]
  },
  {
   "cell_type": "markdown",
   "id": "fcb1069d",
   "metadata": {},
   "source": [
    "#### Clustering by latitude/longitude"
   ]
  },
  {
   "cell_type": "code",
   "execution_count": null,
   "id": "387ac63a",
   "metadata": {},
   "outputs": [],
   "source": [
    "train_scaled, validate_scaled, test_scaled = wrangle_zillow.scale_data(train,validate,test)"
   ]
  },
  {
   "cell_type": "code",
   "execution_count": null,
   "id": "d767dab5",
   "metadata": {},
   "outputs": [],
   "source": [
    "X_train = train_scaled[['latitude','longitude']]\n",
    "X_validate = validate_scaled[['latitude','longitude']]\n",
    "X_test = test_scaled[['latitude','longitude']]"
   ]
  },
  {
   "cell_type": "code",
   "execution_count": null,
   "id": "fb4e43c1",
   "metadata": {},
   "outputs": [],
   "source": [
    "kmeans = KMeans(n_clusters=7)\n",
    "kmeans.fit(X_train)\n",
    "\n",
    "kmeans.predict(X_train)\n",
    "kmeans.predict(X_validate)\n",
    "kmeans.predict(X_test)"
   ]
  },
  {
   "cell_type": "code",
   "execution_count": null,
   "id": "9a6f95fd",
   "metadata": {},
   "outputs": [],
   "source": [
    "train_scaled['clusters_by_lat_long'] = kmeans.predict(X_train)\n",
    "validate_scaled['clusters_by_lat_long'] = kmeans.predict(X_validate)\n",
    "test_scaled['clusters_by_lat_long'] = kmeans.predict(X_test)"
   ]
  },
  {
   "cell_type": "code",
   "execution_count": null,
   "id": "6f6213bd",
   "metadata": {
    "scrolled": true
   },
   "outputs": [],
   "source": [
    "plt.figure(figsize=(18,5))\n",
    "plt.subplot(131)\n",
    "sns.scatterplot(data = train_scaled, x = 'longitude', y = 'latitude')\n",
    "plt.title('Original Data')\n",
    "\n",
    "plt.subplot(132)\n",
    "sns.scatterplot(data = train_scaled, x = 'longitude', y = 'latitude', hue = 'fips')\n",
    "plt.title('Actual Counties')\n",
    "\n",
    "plt.subplot(133)\n",
    "sns.scatterplot(data = train_scaled, x = 'longitude', y = 'latitude', hue = 'clusters_by_lat_long', palette = ('tab10'))\n",
    "plt.title('K-Means Clusters')"
   ]
  },
  {
   "cell_type": "code",
   "execution_count": null,
   "id": "35257c3a",
   "metadata": {
    "scrolled": true
   },
   "outputs": [],
   "source": [
    "with plt.style.context('seaborn-whitegrid'):\n",
    "    plt.figure(figsize=(9, 6))\n",
    "    pd.Series({k: KMeans(k).fit(X_train).inertia_ for k in range(2, 12)}).plot(marker='x')\n",
    "    plt.xticks(range(2, 12))\n",
    "    plt.xlabel('k')\n",
    "    plt.ylabel('inertia')\n",
    "    plt.title('Change in inertia as k increases')"
   ]
  },
  {
   "cell_type": "markdown",
   "id": "8f468d13",
   "metadata": {},
   "source": [
    "- Prior exploration shows that each county has a different mean/median log error.\n",
    "- **With locational clustering we can divide the 3 counties into 7 regions and may be better able to predict log error.**\n"
   ]
  },
  {
   "cell_type": "markdown",
   "id": "0a54cfc5",
   "metadata": {},
   "source": [
    "### Further exploration within clusters"
   ]
  },
  {
   "cell_type": "code",
   "execution_count": null,
   "id": "bb2b3e42",
   "metadata": {},
   "outputs": [],
   "source": [
    "# Assign Region identifiers to clusters\n",
    "def map_clusters(df):\n",
    "    # identified counties for fips codes \n",
    "    clusters = {0: 'Region 1',\n",
    "                 1: 'Region 2',\n",
    "                 2: 'Region 3',\n",
    "                 3: 'Region 4',\n",
    "                 4: 'Region 5',\n",
    "                 5: 'Region 6',\n",
    "                 6: 'Region 7'}\n",
    "     # map clusters \n",
    "    df.clusters_by_lat_long= df.clusters_by_lat_long.map(clusters)\n",
    "    return df"
   ]
  },
  {
   "cell_type": "code",
   "execution_count": null,
   "id": "49b0ee0e",
   "metadata": {
    "scrolled": true
   },
   "outputs": [],
   "source": [
    "map_clusters(train_scaled)"
   ]
  },
  {
   "cell_type": "code",
   "execution_count": null,
   "id": "8c6910a0",
   "metadata": {},
   "outputs": [],
   "source": [
    "Region_1 = train_scaled[train_scaled.clusters_by_lat_long == 'Region 1']\n",
    "Region_2 = train_scaled[train_scaled.clusters_by_lat_long == 'Region 2']\n",
    "Region_3 = train_scaled[train_scaled.clusters_by_lat_long == 'Region 3']\n",
    "Region_4 = train_scaled[train_scaled.clusters_by_lat_long == 'Region 4']\n",
    "Region_5 = train_scaled[train_scaled.clusters_by_lat_long == 'Region 5']\n",
    "Region_6 = train_scaled[train_scaled.clusters_by_lat_long == 'Region 6']\n",
    "Region_7 = train_scaled[train_scaled.clusters_by_lat_long == 'Region 7']\n",
    "Region_8 = train_scaled[train_scaled.clusters_by_lat_long == 'Region 8']"
   ]
  },
  {
   "cell_type": "markdown",
   "id": "c17ec245",
   "metadata": {},
   "source": [
    "**Visualize distribution of log error by region.**"
   ]
  },
  {
   "cell_type": "code",
   "execution_count": null,
   "id": "a86ed7cb",
   "metadata": {},
   "outputs": [],
   "source": [
    "sns.displot(data=train_scaled,x='logerror', hue ='clusters_by_lat_long', palette=('tab10'))"
   ]
  },
  {
   "cell_type": "code",
   "execution_count": null,
   "id": "d4d6cfd2",
   "metadata": {},
   "outputs": [],
   "source": [
    "sns.displot(data=train_scaled,x='logerror', col ='clusters_by_lat_long', col_wrap =3)"
   ]
  },
  {
   "cell_type": "code",
   "execution_count": null,
   "id": "7176f17c",
   "metadata": {},
   "outputs": [],
   "source": [
    "plt.figure(figsize=(12,8))\n",
    "sns.boxenplot(data=train_scaled,x='clusters_by_lat_long',y='logerror')\n",
    "\n",
    "plt.title(\"Is Log Error Different Between Regions?\")\n",
    "plt.xticks(rotation=45)\n",
    "plt.axhline(train_scaled.logerror.median(),ls= ':', color = 'red', linewidth=2)\n",
    "plt.show()"
   ]
  },
  {
   "cell_type": "markdown",
   "id": "89195e1a",
   "metadata": {},
   "source": [
    "### Log Error and Square Feet by Region"
   ]
  },
  {
   "cell_type": "code",
   "execution_count": null,
   "id": "5902fd2b",
   "metadata": {
    "scrolled": true
   },
   "outputs": [],
   "source": [
    "# visualize the linear relationship of log error and square feet by region\n",
    "sns.lmplot(data=train_scaled,x='calculatedfinishedsquarefeet',y='logerror', col='clusters_by_lat_long', col_wrap=3, line_kws={'color':'red'})\n",
    "plt.suptitle(\"Does the Relationship between Log Error and Square Feet Differ per Region?\")\n",
    "plt.show()"
   ]
  },
  {
   "cell_type": "markdown",
   "id": "6649b43b",
   "metadata": {},
   "source": [
    "**Perform correlation hypothesis testing**\n",
    "- Null Hypothesis: There is no linear relationship between log error and square feet.\n",
    "- Alternative Hypothesis: There is a linear relationship between log error and square feet."
   ]
  },
  {
   "cell_type": "code",
   "execution_count": null,
   "id": "a531f2c2",
   "metadata": {},
   "outputs": [],
   "source": [
    "# perform correlation testing on square feet and logerror\n",
    "alpha=.05\n",
    "corr, p = stats.spearmanr(Region_1.calculatedfinishedsquarefeet, Region_1.logerror)\n",
    "p < alpha, corr, p"
   ]
  },
  {
   "cell_type": "code",
   "execution_count": null,
   "id": "eb1c1b2a",
   "metadata": {},
   "outputs": [],
   "source": [
    "# perform correlation testing on square feet and logerror\n",
    "alpha=.05\n",
    "corr, p = stats.spearmanr(Region_2.calculatedfinishedsquarefeet, Region_2.logerror)\n",
    "p < alpha, corr, p"
   ]
  },
  {
   "cell_type": "code",
   "execution_count": null,
   "id": "d5e43cff",
   "metadata": {},
   "outputs": [],
   "source": [
    "# perform correlation testing on square feet and logerror\n",
    "alpha=.05\n",
    "corr, p = stats.spearmanr(Region_3.calculatedfinishedsquarefeet, Region_3.logerror)\n",
    "p < alpha, corr, p"
   ]
  },
  {
   "cell_type": "code",
   "execution_count": null,
   "id": "91e727c1",
   "metadata": {},
   "outputs": [],
   "source": [
    "# perform correlation testing on square feet and logerror\n",
    "alpha=.05\n",
    "corr, p = stats.spearmanr(Region_4.calculatedfinishedsquarefeet, Region_4.logerror)\n",
    "p < alpha, corr, p"
   ]
  },
  {
   "cell_type": "code",
   "execution_count": null,
   "id": "ad87e184",
   "metadata": {},
   "outputs": [],
   "source": [
    "# perform correlation testing on square feet and logerror\n",
    "alpha=.05\n",
    "corr, p = stats.spearmanr(Region_5.calculatedfinishedsquarefeet, Region_5.logerror)\n",
    "p < alpha, corr, p"
   ]
  },
  {
   "cell_type": "code",
   "execution_count": null,
   "id": "47624f7c",
   "metadata": {},
   "outputs": [],
   "source": [
    "# perform correlation testing on square feet and logerror\n",
    "alpha=.05\n",
    "corr, p = stats.spearmanr(Region_6.calculatedfinishedsquarefeet, Region_6.logerror)\n",
    "p < alpha, corr, p"
   ]
  },
  {
   "cell_type": "code",
   "execution_count": null,
   "id": "30a54c94",
   "metadata": {},
   "outputs": [],
   "source": [
    "# perform correlation testing on square feet and logerror\n",
    "alpha=.05\n",
    "corr, p = stats.spearmanr(Region_7.calculatedfinishedsquarefeet, Region_7.logerror)\n",
    "p < alpha, corr, p"
   ]
  },
  {
   "cell_type": "markdown",
   "id": "dfb57efa",
   "metadata": {},
   "source": [
    "**Notes:**\n",
    "- We reject the null hypothesis in all regions, except for region four and six.\n",
    "- Correlation values range from .064 to .087.\n",
    "- Each region has it's own correlation values."
   ]
  },
  {
   "cell_type": "markdown",
   "id": "02336bf7",
   "metadata": {},
   "source": [
    "### Log Error and Age by Region"
   ]
  },
  {
   "cell_type": "code",
   "execution_count": null,
   "id": "4fd51a3b",
   "metadata": {},
   "outputs": [],
   "source": [
    "sns.lmplot(data=train_scaled,x='age',y='logerror', col='clusters_by_lat_long', col_wrap=3, line_kws={'color':'red'})\n",
    "plt.suptitle(\"Does the Relationship between Log Error and Age Differ per Region?\")\n",
    "plt.show()"
   ]
  },
  {
   "cell_type": "code",
   "execution_count": null,
   "id": "837bc0e5",
   "metadata": {},
   "outputs": [],
   "source": [
    "# perform correlation testing on age and logerror\n",
    "alpha=.05\n",
    "corr, p = stats.spearmanr(Region_1.age, Region_1.logerror)\n",
    "p < alpha, corr, p"
   ]
  },
  {
   "cell_type": "code",
   "execution_count": null,
   "id": "5d873534",
   "metadata": {},
   "outputs": [],
   "source": [
    "# perform correlation testing on age and logerror\n",
    "alpha=.05\n",
    "corr, p = stats.spearmanr(Region_2.age, Region_2.logerror)\n",
    "p < alpha, corr, p"
   ]
  },
  {
   "cell_type": "code",
   "execution_count": null,
   "id": "843f50ef",
   "metadata": {},
   "outputs": [],
   "source": [
    "# perform correlation testing on age and logerror\n",
    "alpha=.05\n",
    "corr, p = stats.spearmanr(Region_3.age, Region_3.logerror)\n",
    "p < alpha, corr, p"
   ]
  },
  {
   "cell_type": "code",
   "execution_count": null,
   "id": "c5821c8c",
   "metadata": {},
   "outputs": [],
   "source": [
    "# perform correlation testing on age and logerror\n",
    "alpha=.05\n",
    "corr, p = stats.spearmanr(Region_4.age, Region_4.logerror)\n",
    "p < alpha, corr, p"
   ]
  },
  {
   "cell_type": "code",
   "execution_count": null,
   "id": "d91b0412",
   "metadata": {},
   "outputs": [],
   "source": [
    "# perform correlation testing on age and logerror\n",
    "alpha=.05\n",
    "corr, p = stats.spearmanr(Region_5.age, Region_5.logerror)\n",
    "p < alpha, corr, p"
   ]
  },
  {
   "cell_type": "code",
   "execution_count": null,
   "id": "c7d73a5f",
   "metadata": {},
   "outputs": [],
   "source": [
    "# perform correlation testing on age and logerror\n",
    "alpha=.05\n",
    "corr, p = stats.spearmanr(Region_6.age, Region_6.logerror)\n",
    "p < alpha, corr, p"
   ]
  },
  {
   "cell_type": "code",
   "execution_count": null,
   "id": "85c773b3",
   "metadata": {},
   "outputs": [],
   "source": [
    "# perform correlation testing on age and logerror\n",
    "alpha=.05\n",
    "corr, p = stats.spearmanr(Region_7.age, Region_7.logerror)\n",
    "p < alpha, corr, p"
   ]
  },
  {
   "cell_type": "markdown",
   "id": "25eafee6",
   "metadata": {},
   "source": [
    "**Notes:**\n",
    "- There is only a statistically significant linear correlation in regions one, three, and seven.\n",
    "- Correlation values are around .05."
   ]
  },
  {
   "cell_type": "markdown",
   "id": "efc04afb",
   "metadata": {},
   "source": [
    "### Modeling\n",
    "- Initial modeling performed on scaled, training data.\n",
    "    - Polynomial Regression with 3 degrees chosen for further modeling.\n",
    "    - Modeling performed on age and square feet for all regions.\n",
    "- RMSE used to validate the models."
   ]
  },
  {
   "cell_type": "code",
   "execution_count": null,
   "id": "e6f14bdc",
   "metadata": {},
   "outputs": [],
   "source": [
    "X_train = train_scaled.drop(columns =['bathroomcnt', 'bedroomcnt', 'fips', 'latitude', 'longitude', \n",
    "                                      'lotsizesquarefeet', 'yearbuilt', 'taxvaluedollarcnt',\n",
    "                                      'logerror', 'transactiondate', 'propertylandusedesc',\n",
    "                                       'taxvalue_per_sqft', 'month_of_sale', \n",
    "                                       'clusters_by_lat_long'])\n",
    "y_train = train_scaled['logerror']\n",
    "\n",
    "X_validate = validate_scaled.drop(columns =['bathroomcnt', 'bedroomcnt', 'fips', 'latitude', 'longitude', \n",
    "                                      'lotsizesquarefeet', 'yearbuilt', 'taxvaluedollarcnt',\n",
    "                                      'logerror', 'transactiondate', 'propertylandusedesc',\n",
    "                                       'taxvalue_per_sqft', 'month_of_sale', \n",
    "                                       'clusters_by_lat_long'])\n",
    "y_validate = validate_scaled['logerror']\n",
    "\n",
    "X_test = test_scaled.drop(columns =['bathroomcnt', 'bedroomcnt', 'fips', 'latitude', 'longitude', \n",
    "                                      'lotsizesquarefeet', 'yearbuilt', 'taxvaluedollarcnt',\n",
    "                                      'logerror', 'transactiondate', 'propertylandusedesc',\n",
    "                                       'taxvalue_per_sqft', 'month_of_sale', \n",
    "                                       'clusters_by_lat_long'])\n",
    "y_test = test_scaled['logerror']"
   ]
  },
  {
   "cell_type": "markdown",
   "id": "a2709502",
   "metadata": {},
   "source": [
    "### Establish the baseline"
   ]
  },
  {
   "cell_type": "code",
   "execution_count": null,
   "id": "05a3c46e",
   "metadata": {},
   "outputs": [],
   "source": [
    "y_train = pd.DataFrame(y_train)\n",
    "y_validate = pd.DataFrame(y_validate)"
   ]
  },
  {
   "cell_type": "code",
   "execution_count": null,
   "id": "bb07088f",
   "metadata": {},
   "outputs": [],
   "source": [
    "# 1. Predict LE_pred_mean\n",
    "LE_pred_mean = y_train['logerror'].mean()\n",
    "y_train['LE_pred_mean'] = LE_pred_mean\n",
    "y_validate['LE_pred_mean'] = LE_pred_mean"
   ]
  },
  {
   "cell_type": "code",
   "execution_count": null,
   "id": "dcea7370",
   "metadata": {},
   "outputs": [],
   "source": [
    "# 2. compute LE_pred_median\n",
    "LE_pred_median = y_train['logerror'].median()\n",
    "y_train['LE_pred_median'] = LE_pred_median\n",
    "y_validate['LE_pred_median'] = LE_pred_median"
   ]
  },
  {
   "cell_type": "code",
   "execution_count": null,
   "id": "b4f8c237",
   "metadata": {},
   "outputs": [],
   "source": [
    "# RMSE of LE_pred_mean\n",
    "rmse_train = mean_squared_error(y_train.logerror, y_train.LE_pred_mean)**(1/2)\n",
    "rmse_validate = mean_squared_error(y_validate.logerror, y_validate.LE_pred_mean)**(1/2)\n",
    "print(\"RMSE using Mean\\nTrain/In-Sample: \", rmse_train, \n",
    "      \"\\nValidate/Out-of-Sample: \", rmse_validate)"
   ]
  },
  {
   "cell_type": "code",
   "execution_count": null,
   "id": "17b53fe1",
   "metadata": {},
   "outputs": [],
   "source": [
    "#  RMSE of LE_pred_median\n",
    "rmse_train = mean_squared_error(y_train.logerror, y_train.LE_pred_median)**(1/2)\n",
    "rmse_validate = mean_squared_error(y_validate.logerror, y_validate.LE_pred_median)**(1/2)\n",
    "\n",
    "print(\"RMSE using Median\\nTrain/In-Sample: \", rmse_train, \n",
    "      \"\\nValidate/Out-of-Sample: \", rmse_validate)"
   ]
  },
  {
   "cell_type": "markdown",
   "id": "d16d7651",
   "metadata": {},
   "source": [
    "**Baseline established using mean.**"
   ]
  },
  {
   "cell_type": "markdown",
   "id": "c8390c0e",
   "metadata": {},
   "source": [
    "### Ordinary Least Squares"
   ]
  },
  {
   "cell_type": "code",
   "execution_count": null,
   "id": "3eb2fad9",
   "metadata": {},
   "outputs": [],
   "source": [
    "# create the model \n",
    "lm = LinearRegression(normalize=True)"
   ]
  },
  {
   "cell_type": "code",
   "execution_count": null,
   "id": "b5093fcb",
   "metadata": {},
   "outputs": [],
   "source": [
    "# fit the model\n",
    "lm.fit(X_train, y_train.logerror)"
   ]
  },
  {
   "cell_type": "code",
   "execution_count": null,
   "id": "8416cfcc",
   "metadata": {},
   "outputs": [],
   "source": [
    "# predict train\n",
    "y_train['LE_pred_lm'] = lm.predict(X_train)"
   ]
  },
  {
   "cell_type": "code",
   "execution_count": null,
   "id": "7c7726e2",
   "metadata": {},
   "outputs": [],
   "source": [
    "#evaluate RMSE\n",
    "rmse_train = mean_squared_error(y_train.logerror, y_train.LE_pred_lm)**(1/2)"
   ]
  },
  {
   "cell_type": "code",
   "execution_count": null,
   "id": "94ee3cf8",
   "metadata": {},
   "outputs": [],
   "source": [
    "# predict validate\n",
    "y_validate['LE_pred_lm'] = lm.predict(X_validate)"
   ]
  },
  {
   "cell_type": "code",
   "execution_count": null,
   "id": "8d08c96c",
   "metadata": {},
   "outputs": [],
   "source": [
    "# evaluate RMSE\n",
    "rmse_validate = mean_squared_error(y_validate.logerror, y_validate.LE_pred_lm)**(1/2)"
   ]
  },
  {
   "cell_type": "code",
   "execution_count": null,
   "id": "bd32e531",
   "metadata": {},
   "outputs": [],
   "source": [
    "print(\"RMSE for OLS using LinearRegression\\nTraining/In-Sample: \", rmse_train, \n",
    "      \"\\nValidation/Out-of-Sample: \", rmse_validate)"
   ]
  },
  {
   "cell_type": "markdown",
   "id": "8a6382a0",
   "metadata": {},
   "source": [
    "### Polynomial Regression"
   ]
  },
  {
   "cell_type": "code",
   "execution_count": null,
   "id": "cd7ffd7f",
   "metadata": {},
   "outputs": [],
   "source": [
    "# make the polynomial features to get a new set of features\n",
    "pf = PolynomialFeatures(degree=2)"
   ]
  },
  {
   "cell_type": "code",
   "execution_count": null,
   "id": "5085f188",
   "metadata": {},
   "outputs": [],
   "source": [
    "# fit and transform X_train_scaled\n",
    "X_train_degree2 = pf.fit_transform(X_train)"
   ]
  },
  {
   "cell_type": "code",
   "execution_count": null,
   "id": "6bbfa751",
   "metadata": {},
   "outputs": [],
   "source": [
    "# transform X_validate_scaled & X_test_scaled\n",
    "X_validate_degree2 = pf.transform(X_validate)\n",
    "X_test_degree2 = pf.transform(X_test)"
   ]
  },
  {
   "cell_type": "code",
   "execution_count": null,
   "id": "5239526d",
   "metadata": {},
   "outputs": [],
   "source": [
    "# create the model\n",
    "lm2 = LinearRegression(normalize=True)"
   ]
  },
  {
   "cell_type": "code",
   "execution_count": null,
   "id": "5cdcdcd4",
   "metadata": {},
   "outputs": [],
   "source": [
    "# fit the model\n",
    "lm2.fit(X_train_degree2, y_train.logerror)"
   ]
  },
  {
   "cell_type": "code",
   "execution_count": null,
   "id": "9bbaa2c3",
   "metadata": {},
   "outputs": [],
   "source": [
    "# predict train\n",
    "y_train['LE_pred_lm2'] = lm2.predict(X_train_degree2)"
   ]
  },
  {
   "cell_type": "code",
   "execution_count": null,
   "id": "dd209d89",
   "metadata": {},
   "outputs": [],
   "source": [
    "# evaluate: rmse\n",
    "rmse_train = mean_squared_error(y_train.logerror, y_train.LE_pred_lm2)**(1/2)"
   ]
  },
  {
   "cell_type": "code",
   "execution_count": null,
   "id": "ef4c8b7a",
   "metadata": {},
   "outputs": [],
   "source": [
    "# predict validate\n",
    "y_validate['LE_pred_lm2'] = lm2.predict(X_validate_degree2)\n"
   ]
  },
  {
   "cell_type": "code",
   "execution_count": null,
   "id": "220b8947",
   "metadata": {},
   "outputs": [],
   "source": [
    "# evaluate: rmse\n",
    "rmse_validate = mean_squared_error(y_validate.logerror, y_validate.LE_pred_lm2)**(1/2)"
   ]
  },
  {
   "cell_type": "code",
   "execution_count": null,
   "id": "db672881",
   "metadata": {},
   "outputs": [],
   "source": [
    "print(\"RMSE for Polynomial Model, degrees=2\\nTraining/In-Sample: \", rmse_train, \n",
    "      \"\\nValidation/Out-of-Sample: \", rmse_validate)"
   ]
  },
  {
   "cell_type": "code",
   "execution_count": null,
   "id": "fe71568d",
   "metadata": {},
   "outputs": [],
   "source": [
    "# make the polynomial features to get a new set of features\n",
    "pf = PolynomialFeatures(degree=3)"
   ]
  },
  {
   "cell_type": "code",
   "execution_count": null,
   "id": "c8e26983",
   "metadata": {},
   "outputs": [],
   "source": [
    "# fit and transform X_train_scaled\n",
    "X_train_degree3 = pf.fit_transform(X_train)"
   ]
  },
  {
   "cell_type": "code",
   "execution_count": null,
   "id": "a71b8963",
   "metadata": {},
   "outputs": [],
   "source": [
    "# transform X_validate_scaled & X_test_scaled\n",
    "X_validate_degree3 = pf.transform(X_validate)\n",
    "X_test_degree3 = pf.transform(X_test)"
   ]
  },
  {
   "cell_type": "code",
   "execution_count": null,
   "id": "d7e320de",
   "metadata": {},
   "outputs": [],
   "source": [
    "# create the model\n",
    "lm3 = LinearRegression(normalize=True)"
   ]
  },
  {
   "cell_type": "code",
   "execution_count": null,
   "id": "70ab3458",
   "metadata": {},
   "outputs": [],
   "source": [
    "# fit the model\n",
    "lm3.fit(X_train_degree3, y_train.logerror)"
   ]
  },
  {
   "cell_type": "code",
   "execution_count": null,
   "id": "165a4adc",
   "metadata": {},
   "outputs": [],
   "source": [
    "# predict train\n",
    "y_train['LE_pred_lm3'] = lm3.predict(X_train_degree3)"
   ]
  },
  {
   "cell_type": "code",
   "execution_count": null,
   "id": "952e6914",
   "metadata": {},
   "outputs": [],
   "source": [
    "# evaluate: rmse\n",
    "rmse_train = mean_squared_error(y_train.logerror, y_train.LE_pred_lm3)**(1/2)"
   ]
  },
  {
   "cell_type": "code",
   "execution_count": null,
   "id": "cf664648",
   "metadata": {},
   "outputs": [],
   "source": [
    "# predict validate\n",
    "y_validate['LE_pred_lm3'] = lm3.predict(X_validate_degree3)\n"
   ]
  },
  {
   "cell_type": "code",
   "execution_count": null,
   "id": "ed8a3c85",
   "metadata": {},
   "outputs": [],
   "source": [
    "# evaluate: rmse\n",
    "rmse_validate = mean_squared_error(y_validate.logerror, y_validate.LE_pred_lm3)**(1/2)"
   ]
  },
  {
   "cell_type": "code",
   "execution_count": null,
   "id": "95fd5b19",
   "metadata": {},
   "outputs": [],
   "source": [
    "print(\"RMSE for Polynomial Model, degrees=3\\nTraining/In-Sample: \", rmse_train, \n",
    "      \"\\nValidation/Out-of-Sample: \", rmse_validate)"
   ]
  },
  {
   "cell_type": "markdown",
   "id": "21650280",
   "metadata": {},
   "source": [
    "**Notes:**\n",
    "- OLS and Polynomial Regression models outperform the baseline\n",
    "- Polynomial Regression with three degrees chosen as the best model."
   ]
  },
  {
   "cell_type": "markdown",
   "id": "42fc8df0",
   "metadata": {},
   "source": [
    "### Modeling by Clusters\n",
    "- Modeled on age and calculatedfinishedsquarefeet\n",
    "- Chosen model: Polynomial Regression - three degrees\n",
    "    - Region 1, Region 3, Region 4, Region 5 outperformed baseline and overall polynomial regression model.\n",
    "    - **Best performing model on Region 5**\n",
    "    - Region 2, Region 6, Region 7: did not outperform baseline.\n",
    "    "
   ]
  },
  {
   "cell_type": "markdown",
   "id": "91c7f3b3",
   "metadata": {},
   "source": [
    "### Region 1"
   ]
  },
  {
   "cell_type": "code",
   "execution_count": null,
   "id": "6cebae2b",
   "metadata": {},
   "outputs": [],
   "source": [
    "X_train = Region_1.drop(columns =['bathroomcnt', 'bedroomcnt', 'fips', 'latitude', 'longitude', \n",
    "                                      'lotsizesquarefeet', 'yearbuilt', 'taxvaluedollarcnt',\n",
    "                                      'logerror', 'transactiondate', 'propertylandusedesc',\n",
    "                                       'taxvalue_per_sqft', 'month_of_sale', \n",
    "                                       'clusters_by_lat_long'])\n",
    "y_train = Region_1['logerror']\n",
    "\n",
    "X_validate = Region_1.drop(columns =['bathroomcnt', 'bedroomcnt', 'fips', 'latitude', 'longitude', \n",
    "                                      'lotsizesquarefeet', 'yearbuilt', 'taxvaluedollarcnt',\n",
    "                                      'logerror', 'transactiondate', 'propertylandusedesc',\n",
    "                                       'taxvalue_per_sqft', 'month_of_sale', \n",
    "                                       'clusters_by_lat_long'])\n",
    "y_validate = Region_1['logerror']\n",
    "\n",
    "X_test = Region_1.drop(columns =['bathroomcnt', 'bedroomcnt', 'fips', 'latitude', 'longitude', \n",
    "                                      'lotsizesquarefeet', 'yearbuilt', 'taxvaluedollarcnt',\n",
    "                                      'logerror', 'transactiondate', 'propertylandusedesc',\n",
    "                                       'taxvalue_per_sqft', 'month_of_sale', \n",
    "                                       'clusters_by_lat_long'])\n",
    "y_test = Region_1['logerror']"
   ]
  },
  {
   "cell_type": "code",
   "execution_count": null,
   "id": "d7def3af",
   "metadata": {},
   "outputs": [],
   "source": [
    "y_train = pd.DataFrame(y_train)\n",
    "y_validate = pd.DataFrame(y_validate)"
   ]
  },
  {
   "cell_type": "code",
   "execution_count": null,
   "id": "d58c2f7f",
   "metadata": {},
   "outputs": [],
   "source": [
    "# make the polynomial features to get a new set of features\n",
    "pf = PolynomialFeatures(degree=3)"
   ]
  },
  {
   "cell_type": "code",
   "execution_count": null,
   "id": "df255ebf",
   "metadata": {},
   "outputs": [],
   "source": [
    "# fit and transform X_train_scaled\n",
    "X_train_degree3 = pf.fit_transform(X_train)"
   ]
  },
  {
   "cell_type": "code",
   "execution_count": null,
   "id": "e0c21875",
   "metadata": {},
   "outputs": [],
   "source": [
    "# transform X_validate_scaled & X_test_scaled\n",
    "X_validate_degree3 = pf.transform(X_validate)\n",
    "X_test_degree3 = pf.transform(X_test)"
   ]
  },
  {
   "cell_type": "code",
   "execution_count": null,
   "id": "116efe03",
   "metadata": {},
   "outputs": [],
   "source": [
    "# create the model\n",
    "lm3 = LinearRegression(normalize=True)"
   ]
  },
  {
   "cell_type": "code",
   "execution_count": null,
   "id": "b20ad125",
   "metadata": {},
   "outputs": [],
   "source": [
    "# fit the model\n",
    "lm3.fit(X_train_degree3, y_train.logerror)"
   ]
  },
  {
   "cell_type": "code",
   "execution_count": null,
   "id": "a181c8e2",
   "metadata": {},
   "outputs": [],
   "source": [
    "# predict train\n",
    "y_train['LE_pred_lm3'] = lm3.predict(X_train_degree3)"
   ]
  },
  {
   "cell_type": "code",
   "execution_count": null,
   "id": "37c93945",
   "metadata": {},
   "outputs": [],
   "source": [
    "# evaluate: rmse\n",
    "rmse_train = mean_squared_error(y_train.logerror, y_train.LE_pred_lm3)**(1/2)"
   ]
  },
  {
   "cell_type": "code",
   "execution_count": null,
   "id": "aa295ff8",
   "metadata": {},
   "outputs": [],
   "source": [
    "# predict validate\n",
    "y_validate['LE_pred_lm3'] = lm3.predict(X_validate_degree3)"
   ]
  },
  {
   "cell_type": "code",
   "execution_count": null,
   "id": "415bfb92",
   "metadata": {},
   "outputs": [],
   "source": [
    "# evaluate: rmse\n",
    "rmse_validate = mean_squared_error(y_validate.logerror, y_validate.LE_pred_lm3)**(1/2)"
   ]
  },
  {
   "cell_type": "code",
   "execution_count": null,
   "id": "10fe387d",
   "metadata": {},
   "outputs": [],
   "source": [
    "print(\"RMSE for Polynomial Model, degrees=3\\nTraining/In-Sample: \", rmse_train, \n",
    "      \"\\nValidation/Out-of-Sample: \", rmse_validate)"
   ]
  },
  {
   "cell_type": "markdown",
   "id": "d84560e0",
   "metadata": {},
   "source": [
    "### Region 2"
   ]
  },
  {
   "cell_type": "code",
   "execution_count": null,
   "id": "ebcc711a",
   "metadata": {},
   "outputs": [],
   "source": [
    "X_train = Region_2.drop(columns =['bathroomcnt','bedroomcnt', 'fips', 'latitude', 'longitude', \n",
    "                                      'lotsizesquarefeet', 'yearbuilt', 'taxvaluedollarcnt',\n",
    "                                      'logerror', 'transactiondate', 'propertylandusedesc',\n",
    "                                       'taxvalue_per_sqft', 'month_of_sale', \n",
    "                                       'clusters_by_lat_long'])\n",
    "y_train = Region_2['logerror']\n",
    "\n",
    "X_validate = Region_2.drop(columns =['bathroomcnt', 'bedroomcnt', 'fips', 'latitude', 'longitude', \n",
    "                                      'lotsizesquarefeet', 'yearbuilt', 'taxvaluedollarcnt',\n",
    "                                      'logerror', 'transactiondate', 'propertylandusedesc',\n",
    "                                       'taxvalue_per_sqft', 'month_of_sale', \n",
    "                                       'clusters_by_lat_long'])\n",
    "y_validate = Region_2['logerror']\n",
    "\n",
    "X_test = Region_2.drop(columns =['bathroomcnt', 'bedroomcnt', 'fips', 'latitude', 'longitude', \n",
    "                                      'lotsizesquarefeet', 'yearbuilt', 'taxvaluedollarcnt',\n",
    "                                      'logerror', 'transactiondate', 'propertylandusedesc',\n",
    "                                       'taxvalue_per_sqft', 'month_of_sale', \n",
    "                                       'clusters_by_lat_long'])\n",
    "y_test = Region_2['logerror']"
   ]
  },
  {
   "cell_type": "code",
   "execution_count": null,
   "id": "c28531ff",
   "metadata": {},
   "outputs": [],
   "source": [
    "y_train = pd.DataFrame(y_train)\n",
    "y_validate = pd.DataFrame(y_validate)"
   ]
  },
  {
   "cell_type": "code",
   "execution_count": null,
   "id": "7cbdb003",
   "metadata": {},
   "outputs": [],
   "source": [
    "# make the polynomial features to get a new set of features\n",
    "pf = PolynomialFeatures(degree=3)"
   ]
  },
  {
   "cell_type": "code",
   "execution_count": null,
   "id": "d562fc84",
   "metadata": {},
   "outputs": [],
   "source": [
    "# fit and transform X_train_scaled\n",
    "X_train_degree3 = pf.fit_transform(X_train)"
   ]
  },
  {
   "cell_type": "code",
   "execution_count": null,
   "id": "af73c3b3",
   "metadata": {},
   "outputs": [],
   "source": [
    "# transform X_validate_scaled & X_test_scaled\n",
    "X_validate_degree3 = pf.transform(X_validate)\n",
    "X_test_degree3 = pf.transform(X_test)"
   ]
  },
  {
   "cell_type": "code",
   "execution_count": null,
   "id": "5a0907e5",
   "metadata": {},
   "outputs": [],
   "source": [
    "# create the model\n",
    "lm3 = LinearRegression(normalize=True)"
   ]
  },
  {
   "cell_type": "code",
   "execution_count": null,
   "id": "3ce4951c",
   "metadata": {},
   "outputs": [],
   "source": [
    "# fit the model\n",
    "lm3.fit(X_train_degree3, y_train.logerror)"
   ]
  },
  {
   "cell_type": "code",
   "execution_count": null,
   "id": "56bc007a",
   "metadata": {},
   "outputs": [],
   "source": [
    "# predict train\n",
    "y_train['LE_pred_lm3'] = lm3.predict(X_train_degree3)"
   ]
  },
  {
   "cell_type": "code",
   "execution_count": null,
   "id": "5f255bdf",
   "metadata": {},
   "outputs": [],
   "source": [
    "# evaluate: rmse\n",
    "rmse_train = mean_squared_error(y_train.logerror, y_train.LE_pred_lm3)**(1/2)"
   ]
  },
  {
   "cell_type": "code",
   "execution_count": null,
   "id": "ed17dc5b",
   "metadata": {},
   "outputs": [],
   "source": [
    "# predict validate\n",
    "y_validate['LE_pred_lm3'] = lm3.predict(X_validate_degree3)"
   ]
  },
  {
   "cell_type": "code",
   "execution_count": null,
   "id": "956f9047",
   "metadata": {},
   "outputs": [],
   "source": [
    "# evaluate: rmse\n",
    "rmse_validate = mean_squared_error(y_validate.logerror, y_validate.LE_pred_lm3)**(1/2)"
   ]
  },
  {
   "cell_type": "code",
   "execution_count": null,
   "id": "b78bad2e",
   "metadata": {},
   "outputs": [],
   "source": [
    "print(\"RMSE for Polynomial Model, degrees=2\\nTraining/In-Sample: \", rmse_train, \n",
    "      \"\\nValidation/Out-of-Sample: \", rmse_validate)"
   ]
  },
  {
   "cell_type": "markdown",
   "id": "356afcae",
   "metadata": {},
   "source": [
    "### Region 3"
   ]
  },
  {
   "cell_type": "code",
   "execution_count": 215,
   "id": "2534d794",
   "metadata": {},
   "outputs": [],
   "source": [
    "X_train = Region_3.drop(columns =['bathroomcnt', 'bedroomcnt', 'fips', 'latitude', 'longitude', \n",
    "                                      'lotsizesquarefeet', 'yearbuilt', 'taxvaluedollarcnt',\n",
    "                                      'logerror', 'transactiondate', 'propertylandusedesc',\n",
    "                                       'taxvalue_per_sqft', 'month_of_sale', \n",
    "                                       'clusters_by_lat_long'])\n",
    "y_train = Region_3['logerror']\n",
    "\n",
    "X_validate = Region_3.drop(columns =['bathroomcnt', 'bedroomcnt', 'fips', 'latitude', 'longitude', \n",
    "                                      'lotsizesquarefeet', 'yearbuilt', 'taxvaluedollarcnt',\n",
    "                                      'logerror', 'transactiondate', 'propertylandusedesc',\n",
    "                                       'taxvalue_per_sqft', 'month_of_sale', \n",
    "                                       'clusters_by_lat_long'])\n",
    "y_validate = Region_3['logerror']\n",
    "\n",
    "X_test = Region_3.drop(columns =['bathroomcnt', 'bedroomcnt', 'fips', 'latitude', 'longitude', \n",
    "                                      'lotsizesquarefeet', 'yearbuilt', 'taxvaluedollarcnt',\n",
    "                                      'logerror', 'transactiondate', 'propertylandusedesc',\n",
    "                                       'taxvalue_per_sqft', 'month_of_sale', \n",
    "                                       'clusters_by_lat_long'])\n",
    "y_test = Region_3['logerror']"
   ]
  },
  {
   "cell_type": "code",
   "execution_count": 216,
   "id": "ad88dca8",
   "metadata": {},
   "outputs": [],
   "source": [
    "y_train = pd.DataFrame(y_train)\n",
    "y_validate = pd.DataFrame(y_validate)"
   ]
  },
  {
   "cell_type": "code",
   "execution_count": 217,
   "id": "07a58125",
   "metadata": {},
   "outputs": [],
   "source": [
    "# make the polynomial features to get a new set of features\n",
    "pf = PolynomialFeatures(degree=3)"
   ]
  },
  {
   "cell_type": "code",
   "execution_count": 218,
   "id": "5117d694",
   "metadata": {},
   "outputs": [],
   "source": [
    "# fit and transform X_train_scaled\n",
    "X_train_degree3 = pf.fit_transform(X_train)"
   ]
  },
  {
   "cell_type": "code",
   "execution_count": 219,
   "id": "1128b775",
   "metadata": {},
   "outputs": [],
   "source": [
    "# transform X_validate_scaled & X_test_scaled\n",
    "X_validate_degree3 = pf.transform(X_validate)\n",
    "X_test_degree3 = pf.transform(X_test)"
   ]
  },
  {
   "cell_type": "code",
   "execution_count": 220,
   "id": "a693b83e",
   "metadata": {},
   "outputs": [],
   "source": [
    "# create the model\n",
    "lm3 = LinearRegression(normalize=True)"
   ]
  },
  {
   "cell_type": "code",
   "execution_count": 221,
   "id": "02ece083",
   "metadata": {},
   "outputs": [
    {
     "data": {
      "text/plain": [
       "LinearRegression(normalize=True)"
      ]
     },
     "execution_count": 221,
     "metadata": {},
     "output_type": "execute_result"
    }
   ],
   "source": [
    "# fit the model\n",
    "lm3.fit(X_train_degree3, y_train.logerror)"
   ]
  },
  {
   "cell_type": "code",
   "execution_count": 222,
   "id": "e14ddabe",
   "metadata": {},
   "outputs": [],
   "source": [
    "# predict train\n",
    "y_train['LE_pred_lm3'] = lm3.predict(X_train_degree3)"
   ]
  },
  {
   "cell_type": "code",
   "execution_count": 223,
   "id": "71d94a0d",
   "metadata": {},
   "outputs": [],
   "source": [
    "# evaluate: rmse\n",
    "rmse_train = mean_squared_error(y_train.logerror, y_train.LE_pred_lm3)**(1/2)"
   ]
  },
  {
   "cell_type": "code",
   "execution_count": 224,
   "id": "988f0d08",
   "metadata": {},
   "outputs": [],
   "source": [
    "# predict validate\n",
    "y_validate['LE_pred_lm3'] = lm3.predict(X_validate_degree3)"
   ]
  },
  {
   "cell_type": "code",
   "execution_count": 225,
   "id": "2454648e",
   "metadata": {},
   "outputs": [],
   "source": [
    "# evaluate: rmse\n",
    "rmse_validate = mean_squared_error(y_validate.logerror, y_validate.LE_pred_lm3)**(1/2)"
   ]
  },
  {
   "cell_type": "code",
   "execution_count": 226,
   "id": "6185b194",
   "metadata": {},
   "outputs": [
    {
     "name": "stdout",
     "output_type": "stream",
     "text": [
      "RMSE for Polynomial Model, degrees=3\n",
      "Training/In-Sample:  0.04562725481089945 \n",
      "Validation/Out-of-Sample:  0.04562725481089945\n"
     ]
    }
   ],
   "source": [
    "print(\"RMSE for Polynomial Model, degrees=3\\nTraining/In-Sample: \", rmse_train, \n",
    "      \"\\nValidation/Out-of-Sample: \", rmse_validate)"
   ]
  },
  {
   "cell_type": "markdown",
   "id": "620e4ef4",
   "metadata": {},
   "source": [
    "### Region 4"
   ]
  },
  {
   "cell_type": "code",
   "execution_count": 229,
   "id": "a0e98efc",
   "metadata": {},
   "outputs": [],
   "source": [
    "X_train = Region_4.drop(columns =['bathroomcnt', 'bedroomcnt', 'fips', 'latitude', 'longitude', \n",
    "                                      'lotsizesquarefeet', 'yearbuilt', 'taxvaluedollarcnt',\n",
    "                                      'logerror', 'transactiondate', 'propertylandusedesc',\n",
    "                                       'taxvalue_per_sqft', 'month_of_sale', \n",
    "                                       'clusters_by_lat_long'])\n",
    "y_train = Region_4['logerror']\n",
    "\n",
    "X_validate = Region_4.drop(columns =['bathroomcnt', 'bedroomcnt', 'fips', 'latitude', 'longitude', \n",
    "                                      'lotsizesquarefeet', 'yearbuilt', 'taxvaluedollarcnt',\n",
    "                                      'logerror', 'transactiondate', 'propertylandusedesc',\n",
    "                                       'taxvalue_per_sqft', 'month_of_sale', \n",
    "                                       'clusters_by_lat_long'])\n",
    "y_validate = Region_4['logerror']\n",
    "\n",
    "X_test = Region_4.drop(columns =['bathroomcnt', 'bedroomcnt', 'fips', 'latitude', 'longitude', \n",
    "                                      'lotsizesquarefeet', 'yearbuilt', 'taxvaluedollarcnt',\n",
    "                                      'logerror', 'transactiondate', 'propertylandusedesc',\n",
    "                                       'taxvalue_per_sqft', 'month_of_sale', \n",
    "                                       'clusters_by_lat_long'])\n",
    "y_test = Region_4['logerror']"
   ]
  },
  {
   "cell_type": "code",
   "execution_count": 230,
   "id": "3e20df62",
   "metadata": {},
   "outputs": [],
   "source": [
    "y_train = pd.DataFrame(y_train)\n",
    "y_validate = pd.DataFrame(y_validate)"
   ]
  },
  {
   "cell_type": "code",
   "execution_count": 231,
   "id": "b4fa6bd7",
   "metadata": {},
   "outputs": [],
   "source": [
    "# make the polynomial features to get a new set of features\n",
    "pf = PolynomialFeatures(degree=3)"
   ]
  },
  {
   "cell_type": "code",
   "execution_count": 232,
   "id": "f24a1d47",
   "metadata": {},
   "outputs": [],
   "source": [
    "# fit and transform X_train_scaled\n",
    "X_train_degree3 = pf.fit_transform(X_train)"
   ]
  },
  {
   "cell_type": "code",
   "execution_count": 233,
   "id": "cf798270",
   "metadata": {},
   "outputs": [],
   "source": [
    "# transform X_validate_scaled & X_test_scaled\n",
    "X_validate_degree3 = pf.transform(X_validate)\n",
    "X_test_degree3 = pf.transform(X_test)"
   ]
  },
  {
   "cell_type": "code",
   "execution_count": 234,
   "id": "9c6d20a4",
   "metadata": {},
   "outputs": [],
   "source": [
    "# create the model\n",
    "lm3 = LinearRegression(normalize=True)"
   ]
  },
  {
   "cell_type": "code",
   "execution_count": 235,
   "id": "0ae9dd9d",
   "metadata": {},
   "outputs": [
    {
     "data": {
      "text/plain": [
       "LinearRegression(normalize=True)"
      ]
     },
     "execution_count": 235,
     "metadata": {},
     "output_type": "execute_result"
    }
   ],
   "source": [
    "# fit the model\n",
    "lm3.fit(X_train_degree3, y_train.logerror)"
   ]
  },
  {
   "cell_type": "code",
   "execution_count": 236,
   "id": "8f5ec8cc",
   "metadata": {},
   "outputs": [],
   "source": [
    "# predict train\n",
    "y_train['LE_pred_lm3'] = lm3.predict(X_train_degree3)"
   ]
  },
  {
   "cell_type": "code",
   "execution_count": 237,
   "id": "aa39f950",
   "metadata": {},
   "outputs": [],
   "source": [
    "# evaluate: rmse\n",
    "rmse_train = mean_squared_error(y_train.logerror, y_train.LE_pred_lm3)**(1/2)"
   ]
  },
  {
   "cell_type": "code",
   "execution_count": 238,
   "id": "464476b5",
   "metadata": {},
   "outputs": [],
   "source": [
    "# predict validate\n",
    "y_validate['LE_pred_lm3'] = lm3.predict(X_validate_degree3)"
   ]
  },
  {
   "cell_type": "code",
   "execution_count": 239,
   "id": "4a49c3f6",
   "metadata": {},
   "outputs": [],
   "source": [
    "# evaluate: rmse\n",
    "rmse_validate = mean_squared_error(y_validate.logerror, y_validate.LE_pred_lm3)**(1/2)"
   ]
  },
  {
   "cell_type": "code",
   "execution_count": 240,
   "id": "6fe1562f",
   "metadata": {},
   "outputs": [
    {
     "name": "stdout",
     "output_type": "stream",
     "text": [
      "RMSE for Polynomial Model, degrees=3\n",
      "Training/In-Sample:  0.040605366641947346 \n",
      "Validation/Out-of-Sample:  0.040605366641947346\n"
     ]
    }
   ],
   "source": [
    "print(\"RMSE for Polynomial Model, degrees=3\\nTraining/In-Sample: \", rmse_train, \n",
    "      \"\\nValidation/Out-of-Sample: \", rmse_validate)"
   ]
  },
  {
   "cell_type": "markdown",
   "id": "a93ae804",
   "metadata": {},
   "source": [
    "### Region 5"
   ]
  },
  {
   "cell_type": "code",
   "execution_count": 241,
   "id": "861b9b1d",
   "metadata": {},
   "outputs": [],
   "source": [
    "X_train = Region_5.drop(columns =['bathroomcnt', 'bedroomcnt', 'fips', 'latitude', 'longitude', \n",
    "                                      'lotsizesquarefeet', 'yearbuilt', 'taxvaluedollarcnt',\n",
    "                                      'logerror', 'transactiondate', 'propertylandusedesc',\n",
    "                                       'taxvalue_per_sqft', 'month_of_sale', \n",
    "                                       'clusters_by_lat_long'])\n",
    "y_train = Region_5['logerror']\n",
    "\n",
    "X_validate = Region_5.drop(columns =['bathroomcnt', 'bedroomcnt', 'fips', 'latitude', 'longitude', \n",
    "                                      'lotsizesquarefeet', 'yearbuilt', 'taxvaluedollarcnt',\n",
    "                                      'logerror', 'transactiondate', 'propertylandusedesc',\n",
    "                                       'taxvalue_per_sqft', 'month_of_sale', \n",
    "                                       'clusters_by_lat_long'])\n",
    "y_validate = Region_5['logerror']\n",
    "\n",
    "X_test = Region_5.drop(columns =['bathroomcnt', 'bedroomcnt', 'fips', 'latitude', 'longitude', \n",
    "                                      'lotsizesquarefeet', 'yearbuilt', 'taxvaluedollarcnt',\n",
    "                                      'logerror', 'transactiondate', 'propertylandusedesc',\n",
    "                                       'taxvalue_per_sqft', 'month_of_sale', \n",
    "                                       'clusters_by_lat_long'])\n",
    "y_test = Region_5['logerror']"
   ]
  },
  {
   "cell_type": "code",
   "execution_count": 242,
   "id": "a10edf31",
   "metadata": {},
   "outputs": [],
   "source": [
    "y_train = pd.DataFrame(y_train)\n",
    "y_validate = pd.DataFrame(y_validate)"
   ]
  },
  {
   "cell_type": "code",
   "execution_count": 243,
   "id": "b959ff86",
   "metadata": {},
   "outputs": [],
   "source": [
    "# make the polynomial features to get a new set of features\n",
    "pf = PolynomialFeatures(degree=3)"
   ]
  },
  {
   "cell_type": "code",
   "execution_count": 244,
   "id": "6854360a",
   "metadata": {},
   "outputs": [],
   "source": [
    "# fit and transform X_train_scaled\n",
    "X_train_degree3 = pf.fit_transform(X_train)"
   ]
  },
  {
   "cell_type": "code",
   "execution_count": 245,
   "id": "55d0d316",
   "metadata": {},
   "outputs": [],
   "source": [
    "# transform X_validate_scaled & X_test_scaled\n",
    "X_validate_degree3 = pf.transform(X_validate)\n",
    "X_test_degree3 = pf.transform(X_test)"
   ]
  },
  {
   "cell_type": "code",
   "execution_count": 246,
   "id": "463b6f4c",
   "metadata": {},
   "outputs": [],
   "source": [
    "# create the model\n",
    "lm3 = LinearRegression(normalize=True)"
   ]
  },
  {
   "cell_type": "code",
   "execution_count": 247,
   "id": "e98a5253",
   "metadata": {},
   "outputs": [
    {
     "data": {
      "text/plain": [
       "LinearRegression(normalize=True)"
      ]
     },
     "execution_count": 247,
     "metadata": {},
     "output_type": "execute_result"
    }
   ],
   "source": [
    "# fit the model\n",
    "lm3.fit(X_train_degree3, y_train.logerror)"
   ]
  },
  {
   "cell_type": "code",
   "execution_count": 248,
   "id": "7fdc5b17",
   "metadata": {},
   "outputs": [],
   "source": [
    "# predict train\n",
    "y_train['LE_pred_lm3'] = lm3.predict(X_train_degree3)"
   ]
  },
  {
   "cell_type": "code",
   "execution_count": 249,
   "id": "9df999dc",
   "metadata": {},
   "outputs": [],
   "source": [
    "# evaluate: rmse\n",
    "rmse_train = mean_squared_error(y_train.logerror, y_train.LE_pred_lm3)**(1/2)"
   ]
  },
  {
   "cell_type": "code",
   "execution_count": 250,
   "id": "738bd91b",
   "metadata": {},
   "outputs": [],
   "source": [
    "# predict validate\n",
    "y_validate['LE_pred_lm3'] = lm3.predict(X_validate_degree3)"
   ]
  },
  {
   "cell_type": "code",
   "execution_count": 251,
   "id": "d1dacdc8",
   "metadata": {},
   "outputs": [],
   "source": [
    "# evaluate: rmse\n",
    "rmse_validate = mean_squared_error(y_validate.logerror, y_validate.LE_pred_lm3)**(1/2)"
   ]
  },
  {
   "cell_type": "code",
   "execution_count": 252,
   "id": "aaa336ca",
   "metadata": {},
   "outputs": [
    {
     "name": "stdout",
     "output_type": "stream",
     "text": [
      "RMSE for Polynomial Model, degrees=3\n",
      "Training/In-Sample:  0.03766018686158517 \n",
      "Validation/Out-of-Sample:  0.03766018686158517\n"
     ]
    }
   ],
   "source": [
    "print(\"RMSE for Polynomial Model, degrees=3\\nTraining/In-Sample: \", rmse_train, \n",
    "      \"\\nValidation/Out-of-Sample: \", rmse_validate)"
   ]
  },
  {
   "cell_type": "markdown",
   "id": "8244b092",
   "metadata": {},
   "source": [
    "### Region 6"
   ]
  },
  {
   "cell_type": "code",
   "execution_count": 253,
   "id": "ed613312",
   "metadata": {},
   "outputs": [],
   "source": [
    "X_train = Region_6.drop(columns =['bathroomcnt', 'bedroomcnt', 'fips', 'latitude', 'longitude', \n",
    "                                      'lotsizesquarefeet', 'yearbuilt', 'taxvaluedollarcnt',\n",
    "                                      'logerror', 'transactiondate', 'propertylandusedesc',\n",
    "                                       'taxvalue_per_sqft', 'month_of_sale', \n",
    "                                       'clusters_by_lat_long'])\n",
    "y_train = Region_6['logerror']\n",
    "\n",
    "X_validate = Region_6.drop(columns =['bathroomcnt', 'bedroomcnt', 'fips', 'latitude', 'longitude', \n",
    "                                      'lotsizesquarefeet', 'yearbuilt', 'taxvaluedollarcnt',\n",
    "                                      'logerror', 'transactiondate', 'propertylandusedesc',\n",
    "                                       'taxvalue_per_sqft', 'month_of_sale', \n",
    "                                       'clusters_by_lat_long'])\n",
    "y_validate = Region_6['logerror']\n",
    "\n",
    "X_test = Region_6.drop(columns =['bathroomcnt', 'bedroomcnt', 'fips', 'latitude', 'longitude', \n",
    "                                      'lotsizesquarefeet', 'yearbuilt', 'taxvaluedollarcnt',\n",
    "                                      'logerror', 'transactiondate', 'propertylandusedesc',\n",
    "                                       'taxvalue_per_sqft', 'month_of_sale', \n",
    "                                       'clusters_by_lat_long'])\n",
    "y_test = Region_6['logerror']"
   ]
  },
  {
   "cell_type": "code",
   "execution_count": 254,
   "id": "a5dd37ee",
   "metadata": {},
   "outputs": [],
   "source": [
    "y_train = pd.DataFrame(y_train)\n",
    "y_validate = pd.DataFrame(y_validate)"
   ]
  },
  {
   "cell_type": "code",
   "execution_count": 255,
   "id": "dced4380",
   "metadata": {},
   "outputs": [],
   "source": [
    "# make the polynomial features to get a new set of features\n",
    "pf = PolynomialFeatures(degree=3)"
   ]
  },
  {
   "cell_type": "code",
   "execution_count": 256,
   "id": "a76cb391",
   "metadata": {},
   "outputs": [],
   "source": [
    "# fit and transform X_train_scaled\n",
    "X_train_degree3 = pf.fit_transform(X_train)"
   ]
  },
  {
   "cell_type": "code",
   "execution_count": 257,
   "id": "c9bdd744",
   "metadata": {},
   "outputs": [],
   "source": [
    "# transform X_validate_scaled & X_test_scaled\n",
    "X_validate_degree3 = pf.transform(X_validate)\n",
    "X_test_degree3 = pf.transform(X_test)"
   ]
  },
  {
   "cell_type": "code",
   "execution_count": 258,
   "id": "4a12b316",
   "metadata": {},
   "outputs": [],
   "source": [
    "# create the model\n",
    "lm3 = LinearRegression(normalize=True)"
   ]
  },
  {
   "cell_type": "code",
   "execution_count": 259,
   "id": "cc377c29",
   "metadata": {},
   "outputs": [
    {
     "data": {
      "text/plain": [
       "LinearRegression(normalize=True)"
      ]
     },
     "execution_count": 259,
     "metadata": {},
     "output_type": "execute_result"
    }
   ],
   "source": [
    "# fit the model\n",
    "lm3.fit(X_train_degree3, y_train.logerror)"
   ]
  },
  {
   "cell_type": "code",
   "execution_count": 260,
   "id": "f55e2405",
   "metadata": {},
   "outputs": [],
   "source": [
    "# predict train\n",
    "y_train['LE_pred_lm3'] = lm3.predict(X_train_degree3)"
   ]
  },
  {
   "cell_type": "code",
   "execution_count": 261,
   "id": "b4d7ae36",
   "metadata": {},
   "outputs": [],
   "source": [
    "# evaluate: rmse\n",
    "rmse_train = mean_squared_error(y_train.logerror, y_train.LE_pred_lm3)**(1/2)"
   ]
  },
  {
   "cell_type": "code",
   "execution_count": 262,
   "id": "94a4c7e9",
   "metadata": {},
   "outputs": [],
   "source": [
    "# predict validate\n",
    "y_validate['LE_pred_lm3'] = lm3.predict(X_validate_degree3)"
   ]
  },
  {
   "cell_type": "code",
   "execution_count": 263,
   "id": "b162442a",
   "metadata": {},
   "outputs": [],
   "source": [
    "# evaluate: rmse\n",
    "rmse_validate = mean_squared_error(y_validate.logerror, y_validate.LE_pred_lm3)**(1/2)"
   ]
  },
  {
   "cell_type": "code",
   "execution_count": 264,
   "id": "1d44d0ea",
   "metadata": {},
   "outputs": [
    {
     "name": "stdout",
     "output_type": "stream",
     "text": [
      "RMSE for Polynomial Model, degrees=3\n",
      "Training/In-Sample:  0.03933347003092821 \n",
      "Validation/Out-of-Sample:  0.03933347003092821\n"
     ]
    }
   ],
   "source": [
    "print(\"RMSE for Polynomial Model, degrees=3\\nTraining/In-Sample: \", rmse_train, \n",
    "      \"\\nValidation/Out-of-Sample: \", rmse_validate)"
   ]
  },
  {
   "cell_type": "markdown",
   "id": "98fea4af",
   "metadata": {},
   "source": [
    "### Region 7"
   ]
  },
  {
   "cell_type": "code",
   "execution_count": 265,
   "id": "20ae596f",
   "metadata": {},
   "outputs": [],
   "source": [
    "X_train = Region_7.drop(columns =['bathroomcnt', 'bedroomcnt', 'fips', 'latitude', 'longitude', \n",
    "                                      'lotsizesquarefeet', 'yearbuilt', 'taxvaluedollarcnt',\n",
    "                                      'logerror', 'transactiondate', 'propertylandusedesc',\n",
    "                                       'taxvalue_per_sqft', 'month_of_sale', \n",
    "                                       'clusters_by_lat_long'])\n",
    "y_train = Region_7['logerror']\n",
    "\n",
    "X_validate = Region_7.drop(columns =['bathroomcnt', 'bedroomcnt', 'fips', 'latitude', 'longitude', \n",
    "                                      'lotsizesquarefeet', 'yearbuilt', 'taxvaluedollarcnt',\n",
    "                                      'logerror', 'transactiondate', 'propertylandusedesc',\n",
    "                                       'taxvalue_per_sqft', 'month_of_sale', \n",
    "                                       'clusters_by_lat_long'])\n",
    "y_validate = Region_7['logerror']\n",
    "\n",
    "X_test = Region_7.drop(columns =['bathroomcnt', 'bedroomcnt', 'fips', 'latitude', 'longitude', \n",
    "                                      'lotsizesquarefeet', 'yearbuilt', 'taxvaluedollarcnt',\n",
    "                                      'logerror', 'transactiondate', 'propertylandusedesc',\n",
    "                                       'taxvalue_per_sqft', 'month_of_sale', \n",
    "                                       'clusters_by_lat_long'])\n",
    "y_test = Region_7['logerror']"
   ]
  },
  {
   "cell_type": "code",
   "execution_count": 266,
   "id": "0bda9afc",
   "metadata": {},
   "outputs": [],
   "source": [
    "y_train = pd.DataFrame(y_train)\n",
    "y_validate = pd.DataFrame(y_validate)"
   ]
  },
  {
   "cell_type": "code",
   "execution_count": 267,
   "id": "974a9f3a",
   "metadata": {},
   "outputs": [],
   "source": [
    "# make the polynomial features to get a new set of features\n",
    "pf = PolynomialFeatures(degree=3)"
   ]
  },
  {
   "cell_type": "code",
   "execution_count": 268,
   "id": "e92b9fca",
   "metadata": {},
   "outputs": [],
   "source": [
    "# fit and transform X_train_scaled\n",
    "X_train_degree3 = pf.fit_transform(X_train)"
   ]
  },
  {
   "cell_type": "code",
   "execution_count": 269,
   "id": "1f2d4cbc",
   "metadata": {},
   "outputs": [],
   "source": [
    "# transform X_validate_scaled & X_test_scaled\n",
    "X_validate_degree3 = pf.transform(X_validate)\n",
    "X_test_degree3 = pf.transform(X_test)"
   ]
  },
  {
   "cell_type": "code",
   "execution_count": 270,
   "id": "7c112b74",
   "metadata": {},
   "outputs": [],
   "source": [
    "# create the model\n",
    "lm3 = LinearRegression(normalize=True)"
   ]
  },
  {
   "cell_type": "code",
   "execution_count": 271,
   "id": "47159520",
   "metadata": {},
   "outputs": [
    {
     "data": {
      "text/plain": [
       "LinearRegression(normalize=True)"
      ]
     },
     "execution_count": 271,
     "metadata": {},
     "output_type": "execute_result"
    }
   ],
   "source": [
    "# fit the model\n",
    "lm3.fit(X_train_degree3, y_train.logerror)"
   ]
  },
  {
   "cell_type": "code",
   "execution_count": 272,
   "id": "6efe329e",
   "metadata": {},
   "outputs": [],
   "source": [
    "# predict train\n",
    "y_train['LE_pred_lm3'] = lm3.predict(X_train_degree3)"
   ]
  },
  {
   "cell_type": "code",
   "execution_count": 273,
   "id": "83853a6f",
   "metadata": {},
   "outputs": [],
   "source": [
    "# evaluate: rmse\n",
    "rmse_train = mean_squared_error(y_train.logerror, y_train.LE_pred_lm3)**(1/2)"
   ]
  },
  {
   "cell_type": "code",
   "execution_count": 274,
   "id": "0bdade1a",
   "metadata": {},
   "outputs": [],
   "source": [
    "# predict validate\n",
    "y_validate['LE_pred_lm3'] = lm3.predict(X_validate_degree3)"
   ]
  },
  {
   "cell_type": "code",
   "execution_count": 275,
   "id": "6c7afb70",
   "metadata": {},
   "outputs": [],
   "source": [
    "# evaluate: rmse\n",
    "rmse_validate = mean_squared_error(y_validate.logerror, y_validate.LE_pred_lm3)**(1/2)"
   ]
  },
  {
   "cell_type": "code",
   "execution_count": 276,
   "id": "d885a881",
   "metadata": {},
   "outputs": [
    {
     "name": "stdout",
     "output_type": "stream",
     "text": [
      "RMSE for Polynomial Model, degrees=3\n",
      "Training/In-Sample:  0.04562424438089018 \n",
      "Validation/Out-of-Sample:  0.04562424438089018\n"
     ]
    }
   ],
   "source": [
    "print(\"RMSE for Polynomial Model, degrees=3\\nTraining/In-Sample: \", rmse_train, \n",
    "      \"\\nValidation/Out-of-Sample: \", rmse_validate)"
   ]
  },
  {
   "cell_type": "markdown",
   "id": "e3980d4d",
   "metadata": {},
   "source": [
    "### Clustering within Clusters"
   ]
  },
  {
   "cell_type": "code",
   "execution_count": 277,
   "id": "4d2ebb89",
   "metadata": {},
   "outputs": [],
   "source": [
    "X_train = Region_5[['latitude','longitude']]\n",
    "X_validate = Region_5[['latitude','longitude']]\n",
    "X_test = Region_5[['latitude','longitude']]"
   ]
  },
  {
   "cell_type": "code",
   "execution_count": 287,
   "id": "4c942099",
   "metadata": {},
   "outputs": [
    {
     "data": {
      "text/plain": [
       "array([4, 3, 0, ..., 2, 4, 5], dtype=int32)"
      ]
     },
     "execution_count": 287,
     "metadata": {},
     "output_type": "execute_result"
    }
   ],
   "source": [
    "kmeans = KMeans(n_clusters=6)\n",
    "kmeans.fit(X_train)\n",
    "\n",
    "kmeans.predict(X_train)\n",
    "kmeans.predict(X_validate)\n",
    "kmeans.predict(X_test)"
   ]
  },
  {
   "cell_type": "code",
   "execution_count": 288,
   "id": "a8ab5fe7",
   "metadata": {},
   "outputs": [],
   "source": [
    "Region_5['clusters'] = kmeans.predict(X_train)\n",
    "Region_5['clusters'] = kmeans.predict(X_validate)\n",
    "Region_5['clusters'] = kmeans.predict(X_test)"
   ]
  },
  {
   "cell_type": "code",
   "execution_count": 289,
   "id": "ba2ba826",
   "metadata": {},
   "outputs": [
    {
     "data": {
      "text/plain": [
       "Text(0.5, 1.0, 'K-Means Clusters on Region 5')"
      ]
     },
     "execution_count": 289,
     "metadata": {},
     "output_type": "execute_result"
    },
    {
     "data": {
      "image/png": "[encoded data removed]",
      "text/plain": [
       "<Figure size 1296x360 with 3 Axes>"
      ]
     },
     "metadata": {
      "needs_background": "light"
     },
     "output_type": "display_data"
    }
   ],
   "source": [
    "plt.figure(figsize=(18,5))\n",
    "plt.subplot(131)\n",
    "sns.scatterplot(data = train_scaled, x = 'longitude', y = 'latitude', hue = 'clusters_by_lat_long', palette = ('tab10'))\n",
    "plt.title('K-Means Clusters')\n",
    "\n",
    "plt.subplot(132)\n",
    "sns.scatterplot(data = Region_5, x = 'longitude', y = 'latitude')\n",
    "plt.title('Region 5')\n",
    "\n",
    "plt.subplot(133)\n",
    "sns.scatterplot(data = Region_5, x = 'longitude', y = 'latitude', hue = 'clusters', palette = ('tab10'))\n",
    "plt.title('K-Means Clusters on Region 5')"
   ]
  },
  {
   "cell_type": "code",
   "execution_count": 290,
   "id": "d63ff13f",
   "metadata": {},
   "outputs": [
    {
     "data": {
      "image/png": "[encoded data removed]",
      "text/plain": [
       "<Figure size 648x432 with 1 Axes>"
      ]
     },
     "metadata": {},
     "output_type": "display_data"
    }
   ],
   "source": [
    "with plt.style.context('seaborn-whitegrid'):\n",
    "    plt.figure(figsize=(9, 6))\n",
    "    pd.Series({k: KMeans(k).fit(X_train).inertia_ for k in range(2, 12)}).plot(marker='x')\n",
    "    plt.xticks(range(2, 12))\n",
    "    plt.xlabel('k')\n",
    "    plt.ylabel('inertia')\n",
    "    plt.title('Change in inertia as k increases')"
   ]
  },
  {
   "cell_type": "code",
   "execution_count": 291,
   "id": "be6d3f78",
   "metadata": {},
   "outputs": [],
   "source": [
    "def map_clusters(df):\n",
    "     # identified counties for fips codes \n",
    "    clusters = {0: 'Region 5A',\n",
    "                 1: 'Region 5B',\n",
    "                 2: 'Region 5C',\n",
    "                 3: 'Region 5D',\n",
    "                 4: 'Region 5E',\n",
    "                 5: 'Region 5F',}\n",
    "     # map clusters \n",
    "    df.clusters= df.clusters.map(clusters)\n",
    "    return df"
   ]
  },
  {
   "cell_type": "code",
   "execution_count": 395,
   "id": "4da39716",
   "metadata": {},
   "outputs": [
    {
     "data": {
      "image/png": "[encoded data removed]",
      "text/plain": [
       "<Figure size 720x576 with 1 Axes>"
      ]
     },
     "metadata": {
      "needs_background": "light"
     },
     "output_type": "display_data"
    }
   ],
   "source": [
    "plt.figure(figsize=(10,8))\n",
    "sns.boxplot(data=Region_5,x='clusters',y='logerror')\n",
    "plt.title(\"Is Log Error Different Between the Clusters of Region 5?\")\n",
    "plt.axhline(Region_5.logerror.median(),ls= ':', color = 'red', linewidth=1)\n",
    "plt.xticks(rotation=45)\n",
    "plt.show()"
   ]
  },
  {
   "cell_type": "code",
   "execution_count": 292,
   "id": "a9ef3127",
   "metadata": {},
   "outputs": [
    {
     "data": {
      "text/html": [
       "<div>\n",
       "<style scoped>\n",
       "    .dataframe tbody tr th:only-of-type {\n",
       "        vertical-align: middle;\n",
       "    }\n",
       "\n",
       "    .dataframe tbody tr th {\n",
       "        vertical-align: top;\n",
       "    }\n",
       "\n",
       "    .dataframe thead th {\n",
       "        text-align: right;\n",
       "    }\n",
       "</style>\n",
       "<table border=\"1\" class=\"dataframe\">\n",
       "  <thead>\n",
       "    <tr style=\"text-align: right;\">\n",
       "      <th></th>\n",
       "      <th>bathroomcnt</th>\n",
       "      <th>bedroomcnt</th>\n",
       "      <th>calculatedfinishedsquarefeet</th>\n",
       "      <th>fips</th>\n",
       "      <th>latitude</th>\n",
       "      <th>longitude</th>\n",
       "      <th>lotsizesquarefeet</th>\n",
       "      <th>yearbuilt</th>\n",
       "      <th>taxvaluedollarcnt</th>\n",
       "      <th>logerror</th>\n",
       "      <th>transactiondate</th>\n",
       "      <th>propertylandusedesc</th>\n",
       "      <th>age</th>\n",
       "      <th>taxvalue_per_sqft</th>\n",
       "      <th>month_of_sale</th>\n",
       "      <th>clusters_by_lat_long</th>\n",
       "      <th>clusters</th>\n",
       "    </tr>\n",
       "  </thead>\n",
       "  <tbody>\n",
       "    <tr>\n",
       "      <th>30300</th>\n",
       "      <td>0.333333</td>\n",
       "      <td>0.666667</td>\n",
       "      <td>0.238988</td>\n",
       "      <td>Orange</td>\n",
       "      <td>0.195123</td>\n",
       "      <td>0.930407</td>\n",
       "      <td>0.532057</td>\n",
       "      <td>0.520408</td>\n",
       "      <td>0.276134</td>\n",
       "      <td>0.010291</td>\n",
       "      <td>2017-06-09</td>\n",
       "      <td>Single Family Residential</td>\n",
       "      <td>0.479592</td>\n",
       "      <td>0.405724</td>\n",
       "      <td>0.625</td>\n",
       "      <td>Region 5</td>\n",
       "      <td>Region 5E</td>\n",
       "    </tr>\n",
       "    <tr>\n",
       "      <th>27053</th>\n",
       "      <td>0.500000</td>\n",
       "      <td>0.333333</td>\n",
       "      <td>0.478304</td>\n",
       "      <td>Orange</td>\n",
       "      <td>0.052562</td>\n",
       "      <td>0.977282</td>\n",
       "      <td>0.446271</td>\n",
       "      <td>0.591837</td>\n",
       "      <td>0.122414</td>\n",
       "      <td>0.007466</td>\n",
       "      <td>2017-05-26</td>\n",
       "      <td>Single Family Residential</td>\n",
       "      <td>0.408163</td>\n",
       "      <td>0.107744</td>\n",
       "      <td>0.500</td>\n",
       "      <td>Region 5</td>\n",
       "      <td>Region 5D</td>\n",
       "    </tr>\n",
       "    <tr>\n",
       "      <th>26338</th>\n",
       "      <td>0.666667</td>\n",
       "      <td>0.333333</td>\n",
       "      <td>0.929323</td>\n",
       "      <td>Orange</td>\n",
       "      <td>0.215144</td>\n",
       "      <td>0.968657</td>\n",
       "      <td>0.599783</td>\n",
       "      <td>0.734694</td>\n",
       "      <td>0.903388</td>\n",
       "      <td>-0.032208</td>\n",
       "      <td>2017-05-23</td>\n",
       "      <td>Single Family Residential</td>\n",
       "      <td>0.265306</td>\n",
       "      <td>0.483165</td>\n",
       "      <td>0.500</td>\n",
       "      <td>Region 5</td>\n",
       "      <td>Region 5A</td>\n",
       "    </tr>\n",
       "    <tr>\n",
       "      <th>35131</th>\n",
       "      <td>0.666667</td>\n",
       "      <td>0.666667</td>\n",
       "      <td>0.999343</td>\n",
       "      <td>Orange</td>\n",
       "      <td>0.212333</td>\n",
       "      <td>0.969040</td>\n",
       "      <td>0.419180</td>\n",
       "      <td>0.765306</td>\n",
       "      <td>0.839831</td>\n",
       "      <td>0.050475</td>\n",
       "      <td>2017-06-29</td>\n",
       "      <td>Single Family Residential</td>\n",
       "      <td>0.234694</td>\n",
       "      <td>0.420875</td>\n",
       "      <td>0.625</td>\n",
       "      <td>Region 5</td>\n",
       "      <td>Region 5A</td>\n",
       "    </tr>\n",
       "    <tr>\n",
       "      <th>46323</th>\n",
       "      <td>0.500000</td>\n",
       "      <td>0.333333</td>\n",
       "      <td>0.340894</td>\n",
       "      <td>Orange</td>\n",
       "      <td>0.085275</td>\n",
       "      <td>0.956106</td>\n",
       "      <td>0.070255</td>\n",
       "      <td>0.591837</td>\n",
       "      <td>0.539165</td>\n",
       "      <td>-0.009863</td>\n",
       "      <td>2017-08-21</td>\n",
       "      <td>Single Family Residential</td>\n",
       "      <td>0.408163</td>\n",
       "      <td>0.632997</td>\n",
       "      <td>0.875</td>\n",
       "      <td>Region 5</td>\n",
       "      <td>Region 5D</td>\n",
       "    </tr>\n",
       "    <tr>\n",
       "      <th>...</th>\n",
       "      <td>...</td>\n",
       "      <td>...</td>\n",
       "      <td>...</td>\n",
       "      <td>...</td>\n",
       "      <td>...</td>\n",
       "      <td>...</td>\n",
       "      <td>...</td>\n",
       "      <td>...</td>\n",
       "      <td>...</td>\n",
       "      <td>...</td>\n",
       "      <td>...</td>\n",
       "      <td>...</td>\n",
       "      <td>...</td>\n",
       "      <td>...</td>\n",
       "      <td>...</td>\n",
       "      <td>...</td>\n",
       "      <td>...</td>\n",
       "    </tr>\n",
       "    <tr>\n",
       "      <th>9860</th>\n",
       "      <td>0.500000</td>\n",
       "      <td>0.333333</td>\n",
       "      <td>0.443458</td>\n",
       "      <td>Orange</td>\n",
       "      <td>0.101674</td>\n",
       "      <td>0.926066</td>\n",
       "      <td>0.193426</td>\n",
       "      <td>0.744898</td>\n",
       "      <td>0.788275</td>\n",
       "      <td>0.027368</td>\n",
       "      <td>2017-03-06</td>\n",
       "      <td>Single Family Residential</td>\n",
       "      <td>0.255102</td>\n",
       "      <td>0.767677</td>\n",
       "      <td>0.250</td>\n",
       "      <td>Region 5</td>\n",
       "      <td>Region 5B</td>\n",
       "    </tr>\n",
       "    <tr>\n",
       "      <th>26945</th>\n",
       "      <td>0.666667</td>\n",
       "      <td>0.333333</td>\n",
       "      <td>0.709730</td>\n",
       "      <td>Orange</td>\n",
       "      <td>0.246780</td>\n",
       "      <td>0.949721</td>\n",
       "      <td>0.283728</td>\n",
       "      <td>0.775510</td>\n",
       "      <td>0.463480</td>\n",
       "      <td>0.017831</td>\n",
       "      <td>2017-05-25</td>\n",
       "      <td>Single Family Residential</td>\n",
       "      <td>0.224490</td>\n",
       "      <td>0.308081</td>\n",
       "      <td>0.500</td>\n",
       "      <td>Region 5</td>\n",
       "      <td>Region 5A</td>\n",
       "    </tr>\n",
       "    <tr>\n",
       "      <th>13755</th>\n",
       "      <td>0.500000</td>\n",
       "      <td>0.666667</td>\n",
       "      <td>0.560815</td>\n",
       "      <td>Orange</td>\n",
       "      <td>0.209978</td>\n",
       "      <td>0.864549</td>\n",
       "      <td>0.625429</td>\n",
       "      <td>0.581633</td>\n",
       "      <td>0.578305</td>\n",
       "      <td>0.034468</td>\n",
       "      <td>2017-03-27</td>\n",
       "      <td>Single Family Residential</td>\n",
       "      <td>0.418367</td>\n",
       "      <td>0.468013</td>\n",
       "      <td>0.250</td>\n",
       "      <td>Region 5</td>\n",
       "      <td>Region 5C</td>\n",
       "    </tr>\n",
       "    <tr>\n",
       "      <th>32046</th>\n",
       "      <td>1.000000</td>\n",
       "      <td>0.333333</td>\n",
       "      <td>0.600592</td>\n",
       "      <td>Orange</td>\n",
       "      <td>0.176067</td>\n",
       "      <td>0.970461</td>\n",
       "      <td>0.294112</td>\n",
       "      <td>0.846939</td>\n",
       "      <td>0.395508</td>\n",
       "      <td>-0.034770</td>\n",
       "      <td>2017-06-16</td>\n",
       "      <td>Single Family Residential</td>\n",
       "      <td>0.153061</td>\n",
       "      <td>0.301347</td>\n",
       "      <td>0.625</td>\n",
       "      <td>Region 5</td>\n",
       "      <td>Region 5E</td>\n",
       "    </tr>\n",
       "    <tr>\n",
       "      <th>42439</th>\n",
       "      <td>0.500000</td>\n",
       "      <td>0.666667</td>\n",
       "      <td>0.554569</td>\n",
       "      <td>Orange</td>\n",
       "      <td>0.238387</td>\n",
       "      <td>0.864621</td>\n",
       "      <td>0.297544</td>\n",
       "      <td>0.704082</td>\n",
       "      <td>0.602817</td>\n",
       "      <td>-0.051365</td>\n",
       "      <td>2017-07-31</td>\n",
       "      <td>Single Family Residential</td>\n",
       "      <td>0.295918</td>\n",
       "      <td>0.493266</td>\n",
       "      <td>0.750</td>\n",
       "      <td>Region 5</td>\n",
       "      <td>Region 5F</td>\n",
       "    </tr>\n",
       "  </tbody>\n",
       "</table>\n",
       "<p>1758 rows × 17 columns</p>\n",
       "</div>"
      ],
      "text/plain": [
       "       bathroomcnt  bedroomcnt  calculatedfinishedsquarefeet    fips  \\\n",
       "30300     0.333333    0.666667                      0.238988  Orange   \n",
       "27053     0.500000    0.333333                      0.478304  Orange   \n",
       "26338     0.666667    0.333333                      0.929323  Orange   \n",
       "35131     0.666667    0.666667                      0.999343  Orange   \n",
       "46323     0.500000    0.333333                      0.340894  Orange   \n",
       "...            ...         ...                           ...     ...   \n",
       "9860      0.500000    0.333333                      0.443458  Orange   \n",
       "26945     0.666667    0.333333                      0.709730  Orange   \n",
       "13755     0.500000    0.666667                      0.560815  Orange   \n",
       "32046     1.000000    0.333333                      0.600592  Orange   \n",
       "42439     0.500000    0.666667                      0.554569  Orange   \n",
       "\n",
       "       latitude  longitude  lotsizesquarefeet  yearbuilt  taxvaluedollarcnt  \\\n",
       "30300  0.195123   0.930407           0.532057   0.520408           0.276134   \n",
       "27053  0.052562   0.977282           0.446271   0.591837           0.122414   \n",
       "26338  0.215144   0.968657           0.599783   0.734694           0.903388   \n",
       "35131  0.212333   0.969040           0.419180   0.765306           0.839831   \n",
       "46323  0.085275   0.956106           0.070255   0.591837           0.539165   \n",
       "...         ...        ...                ...        ...                ...   \n",
       "9860   0.101674   0.926066           0.193426   0.744898           0.788275   \n",
       "26945  0.246780   0.949721           0.283728   0.775510           0.463480   \n",
       "13755  0.209978   0.864549           0.625429   0.581633           0.578305   \n",
       "32046  0.176067   0.970461           0.294112   0.846939           0.395508   \n",
       "42439  0.238387   0.864621           0.297544   0.704082           0.602817   \n",
       "\n",
       "       logerror transactiondate        propertylandusedesc       age  \\\n",
       "30300  0.010291      2017-06-09  Single Family Residential  0.479592   \n",
       "27053  0.007466      2017-05-26  Single Family Residential  0.408163   \n",
       "26338 -0.032208      2017-05-23  Single Family Residential  0.265306   \n",
       "35131  0.050475      2017-06-29  Single Family Residential  0.234694   \n",
       "46323 -0.009863      2017-08-21  Single Family Residential  0.408163   \n",
       "...         ...             ...                        ...       ...   \n",
       "9860   0.027368      2017-03-06  Single Family Residential  0.255102   \n",
       "26945  0.017831      2017-05-25  Single Family Residential  0.224490   \n",
       "13755  0.034468      2017-03-27  Single Family Residential  0.418367   \n",
       "32046 -0.034770      2017-06-16  Single Family Residential  0.153061   \n",
       "42439 -0.051365      2017-07-31  Single Family Residential  0.295918   \n",
       "\n",
       "       taxvalue_per_sqft  month_of_sale clusters_by_lat_long   clusters  \n",
       "30300           0.405724          0.625             Region 5  Region 5E  \n",
       "27053           0.107744          0.500             Region 5  Region 5D  \n",
       "26338           0.483165          0.500             Region 5  Region 5A  \n",
       "35131           0.420875          0.625             Region 5  Region 5A  \n",
       "46323           0.632997          0.875             Region 5  Region 5D  \n",
       "...                  ...            ...                  ...        ...  \n",
       "9860            0.767677          0.250             Region 5  Region 5B  \n",
       "26945           0.308081          0.500             Region 5  Region 5A  \n",
       "13755           0.468013          0.250             Region 5  Region 5C  \n",
       "32046           0.301347          0.625             Region 5  Region 5E  \n",
       "42439           0.493266          0.750             Region 5  Region 5F  \n",
       "\n",
       "[1758 rows x 17 columns]"
      ]
     },
     "execution_count": 292,
     "metadata": {},
     "output_type": "execute_result"
    }
   ],
   "source": [
    "map_clusters(Region_5)"
   ]
  },
  {
   "cell_type": "markdown",
   "id": "b74bf874",
   "metadata": {},
   "source": [
    "### Region 5C"
   ]
  },
  {
   "cell_type": "code",
   "execution_count": 294,
   "id": "7fc7c5f3",
   "metadata": {},
   "outputs": [],
   "source": [
    "Region_5C = Region_5[Region_5.clusters == 'Region 5C']"
   ]
  },
  {
   "cell_type": "code",
   "execution_count": 295,
   "id": "bf799fb5",
   "metadata": {
    "scrolled": true
   },
   "outputs": [
    {
     "data": {
      "text/html": [
       "<div>\n",
       "<style scoped>\n",
       "    .dataframe tbody tr th:only-of-type {\n",
       "        vertical-align: middle;\n",
       "    }\n",
       "\n",
       "    .dataframe tbody tr th {\n",
       "        vertical-align: top;\n",
       "    }\n",
       "\n",
       "    .dataframe thead th {\n",
       "        text-align: right;\n",
       "    }\n",
       "</style>\n",
       "<table border=\"1\" class=\"dataframe\">\n",
       "  <thead>\n",
       "    <tr style=\"text-align: right;\">\n",
       "      <th></th>\n",
       "      <th>bathroomcnt</th>\n",
       "      <th>bedroomcnt</th>\n",
       "      <th>calculatedfinishedsquarefeet</th>\n",
       "      <th>latitude</th>\n",
       "      <th>longitude</th>\n",
       "      <th>lotsizesquarefeet</th>\n",
       "      <th>yearbuilt</th>\n",
       "      <th>taxvaluedollarcnt</th>\n",
       "      <th>logerror</th>\n",
       "      <th>age</th>\n",
       "      <th>taxvalue_per_sqft</th>\n",
       "      <th>month_of_sale</th>\n",
       "    </tr>\n",
       "  </thead>\n",
       "  <tbody>\n",
       "    <tr>\n",
       "      <th>bathroomcnt</th>\n",
       "      <td>1.000000</td>\n",
       "      <td>0.545316</td>\n",
       "      <td>0.796247</td>\n",
       "      <td>0.115856</td>\n",
       "      <td>0.234501</td>\n",
       "      <td>0.217446</td>\n",
       "      <td>0.358101</td>\n",
       "      <td>0.252887</td>\n",
       "      <td>0.144316</td>\n",
       "      <td>-0.358101</td>\n",
       "      <td>-0.075860</td>\n",
       "      <td>0.097227</td>\n",
       "    </tr>\n",
       "    <tr>\n",
       "      <th>bedroomcnt</th>\n",
       "      <td>0.545316</td>\n",
       "      <td>1.000000</td>\n",
       "      <td>0.549963</td>\n",
       "      <td>0.154519</td>\n",
       "      <td>0.095511</td>\n",
       "      <td>0.519662</td>\n",
       "      <td>-0.052086</td>\n",
       "      <td>-0.003056</td>\n",
       "      <td>-0.138462</td>\n",
       "      <td>0.052086</td>\n",
       "      <td>-0.202246</td>\n",
       "      <td>-0.055394</td>\n",
       "    </tr>\n",
       "    <tr>\n",
       "      <th>calculatedfinishedsquarefeet</th>\n",
       "      <td>0.796247</td>\n",
       "      <td>0.549963</td>\n",
       "      <td>1.000000</td>\n",
       "      <td>0.050153</td>\n",
       "      <td>0.262571</td>\n",
       "      <td>0.439173</td>\n",
       "      <td>0.414513</td>\n",
       "      <td>0.254642</td>\n",
       "      <td>0.054455</td>\n",
       "      <td>-0.414513</td>\n",
       "      <td>-0.165004</td>\n",
       "      <td>0.065653</td>\n",
       "    </tr>\n",
       "    <tr>\n",
       "      <th>latitude</th>\n",
       "      <td>0.115856</td>\n",
       "      <td>0.154519</td>\n",
       "      <td>0.050153</td>\n",
       "      <td>1.000000</td>\n",
       "      <td>0.730395</td>\n",
       "      <td>0.034007</td>\n",
       "      <td>0.302811</td>\n",
       "      <td>0.174647</td>\n",
       "      <td>-0.226544</td>\n",
       "      <td>-0.302811</td>\n",
       "      <td>0.172342</td>\n",
       "      <td>-0.027326</td>\n",
       "    </tr>\n",
       "    <tr>\n",
       "      <th>longitude</th>\n",
       "      <td>0.234501</td>\n",
       "      <td>0.095511</td>\n",
       "      <td>0.262571</td>\n",
       "      <td>0.730395</td>\n",
       "      <td>1.000000</td>\n",
       "      <td>0.135202</td>\n",
       "      <td>0.499411</td>\n",
       "      <td>0.215496</td>\n",
       "      <td>-0.057801</td>\n",
       "      <td>-0.499411</td>\n",
       "      <td>0.147939</td>\n",
       "      <td>0.087460</td>\n",
       "    </tr>\n",
       "    <tr>\n",
       "      <th>lotsizesquarefeet</th>\n",
       "      <td>0.217446</td>\n",
       "      <td>0.519662</td>\n",
       "      <td>0.439173</td>\n",
       "      <td>0.034007</td>\n",
       "      <td>0.135202</td>\n",
       "      <td>1.000000</td>\n",
       "      <td>-0.080594</td>\n",
       "      <td>-0.086153</td>\n",
       "      <td>-0.158099</td>\n",
       "      <td>0.080594</td>\n",
       "      <td>-0.247315</td>\n",
       "      <td>0.006039</td>\n",
       "    </tr>\n",
       "    <tr>\n",
       "      <th>yearbuilt</th>\n",
       "      <td>0.358101</td>\n",
       "      <td>-0.052086</td>\n",
       "      <td>0.414513</td>\n",
       "      <td>0.302811</td>\n",
       "      <td>0.499411</td>\n",
       "      <td>-0.080594</td>\n",
       "      <td>1.000000</td>\n",
       "      <td>0.350326</td>\n",
       "      <td>0.107452</td>\n",
       "      <td>-1.000000</td>\n",
       "      <td>0.144235</td>\n",
       "      <td>0.170597</td>\n",
       "    </tr>\n",
       "    <tr>\n",
       "      <th>taxvaluedollarcnt</th>\n",
       "      <td>0.252887</td>\n",
       "      <td>-0.003056</td>\n",
       "      <td>0.254642</td>\n",
       "      <td>0.174647</td>\n",
       "      <td>0.215496</td>\n",
       "      <td>-0.086153</td>\n",
       "      <td>0.350326</td>\n",
       "      <td>1.000000</td>\n",
       "      <td>-0.066833</td>\n",
       "      <td>-0.350326</td>\n",
       "      <td>0.881391</td>\n",
       "      <td>0.070290</td>\n",
       "    </tr>\n",
       "    <tr>\n",
       "      <th>logerror</th>\n",
       "      <td>0.144316</td>\n",
       "      <td>-0.138462</td>\n",
       "      <td>0.054455</td>\n",
       "      <td>-0.226544</td>\n",
       "      <td>-0.057801</td>\n",
       "      <td>-0.158099</td>\n",
       "      <td>0.107452</td>\n",
       "      <td>-0.066833</td>\n",
       "      <td>1.000000</td>\n",
       "      <td>-0.107452</td>\n",
       "      <td>-0.064597</td>\n",
       "      <td>0.036745</td>\n",
       "    </tr>\n",
       "    <tr>\n",
       "      <th>age</th>\n",
       "      <td>-0.358101</td>\n",
       "      <td>0.052086</td>\n",
       "      <td>-0.414513</td>\n",
       "      <td>-0.302811</td>\n",
       "      <td>-0.499411</td>\n",
       "      <td>0.080594</td>\n",
       "      <td>-1.000000</td>\n",
       "      <td>-0.350326</td>\n",
       "      <td>-0.107452</td>\n",
       "      <td>1.000000</td>\n",
       "      <td>-0.144235</td>\n",
       "      <td>-0.170597</td>\n",
       "    </tr>\n",
       "    <tr>\n",
       "      <th>taxvalue_per_sqft</th>\n",
       "      <td>-0.075860</td>\n",
       "      <td>-0.202246</td>\n",
       "      <td>-0.165004</td>\n",
       "      <td>0.172342</td>\n",
       "      <td>0.147939</td>\n",
       "      <td>-0.247315</td>\n",
       "      <td>0.144235</td>\n",
       "      <td>0.881391</td>\n",
       "      <td>-0.064597</td>\n",
       "      <td>-0.144235</td>\n",
       "      <td>1.000000</td>\n",
       "      <td>0.047972</td>\n",
       "    </tr>\n",
       "    <tr>\n",
       "      <th>month_of_sale</th>\n",
       "      <td>0.097227</td>\n",
       "      <td>-0.055394</td>\n",
       "      <td>0.065653</td>\n",
       "      <td>-0.027326</td>\n",
       "      <td>0.087460</td>\n",
       "      <td>0.006039</td>\n",
       "      <td>0.170597</td>\n",
       "      <td>0.070290</td>\n",
       "      <td>0.036745</td>\n",
       "      <td>-0.170597</td>\n",
       "      <td>0.047972</td>\n",
       "      <td>1.000000</td>\n",
       "    </tr>\n",
       "  </tbody>\n",
       "</table>\n",
       "</div>"
      ],
      "text/plain": [
       "                              bathroomcnt  bedroomcnt  \\\n",
       "bathroomcnt                      1.000000    0.545316   \n",
       "bedroomcnt                       0.545316    1.000000   \n",
       "calculatedfinishedsquarefeet     0.796247    0.549963   \n",
       "latitude                         0.115856    0.154519   \n",
       "longitude                        0.234501    0.095511   \n",
       "lotsizesquarefeet                0.217446    0.519662   \n",
       "yearbuilt                        0.358101   -0.052086   \n",
       "taxvaluedollarcnt                0.252887   -0.003056   \n",
       "logerror                         0.144316   -0.138462   \n",
       "age                             -0.358101    0.052086   \n",
       "taxvalue_per_sqft               -0.075860   -0.202246   \n",
       "month_of_sale                    0.097227   -0.055394   \n",
       "\n",
       "                              calculatedfinishedsquarefeet  latitude  \\\n",
       "bathroomcnt                                       0.796247  0.115856   \n",
       "bedroomcnt                                        0.549963  0.154519   \n",
       "calculatedfinishedsquarefeet                      1.000000  0.050153   \n",
       "latitude                                          0.050153  1.000000   \n",
       "longitude                                         0.262571  0.730395   \n",
       "lotsizesquarefeet                                 0.439173  0.034007   \n",
       "yearbuilt                                         0.414513  0.302811   \n",
       "taxvaluedollarcnt                                 0.254642  0.174647   \n",
       "logerror                                          0.054455 -0.226544   \n",
       "age                                              -0.414513 -0.302811   \n",
       "taxvalue_per_sqft                                -0.165004  0.172342   \n",
       "month_of_sale                                     0.065653 -0.027326   \n",
       "\n",
       "                              longitude  lotsizesquarefeet  yearbuilt  \\\n",
       "bathroomcnt                    0.234501           0.217446   0.358101   \n",
       "bedroomcnt                     0.095511           0.519662  -0.052086   \n",
       "calculatedfinishedsquarefeet   0.262571           0.439173   0.414513   \n",
       "latitude                       0.730395           0.034007   0.302811   \n",
       "longitude                      1.000000           0.135202   0.499411   \n",
       "lotsizesquarefeet              0.135202           1.000000  -0.080594   \n",
       "yearbuilt                      0.499411          -0.080594   1.000000   \n",
       "taxvaluedollarcnt              0.215496          -0.086153   0.350326   \n",
       "logerror                      -0.057801          -0.158099   0.107452   \n",
       "age                           -0.499411           0.080594  -1.000000   \n",
       "taxvalue_per_sqft              0.147939          -0.247315   0.144235   \n",
       "month_of_sale                  0.087460           0.006039   0.170597   \n",
       "\n",
       "                              taxvaluedollarcnt  logerror       age  \\\n",
       "bathroomcnt                            0.252887  0.144316 -0.358101   \n",
       "bedroomcnt                            -0.003056 -0.138462  0.052086   \n",
       "calculatedfinishedsquarefeet           0.254642  0.054455 -0.414513   \n",
       "latitude                               0.174647 -0.226544 -0.302811   \n",
       "longitude                              0.215496 -0.057801 -0.499411   \n",
       "lotsizesquarefeet                     -0.086153 -0.158099  0.080594   \n",
       "yearbuilt                              0.350326  0.107452 -1.000000   \n",
       "taxvaluedollarcnt                      1.000000 -0.066833 -0.350326   \n",
       "logerror                              -0.066833  1.000000 -0.107452   \n",
       "age                                   -0.350326 -0.107452  1.000000   \n",
       "taxvalue_per_sqft                      0.881391 -0.064597 -0.144235   \n",
       "month_of_sale                          0.070290  0.036745 -0.170597   \n",
       "\n",
       "                              taxvalue_per_sqft  month_of_sale  \n",
       "bathroomcnt                           -0.075860       0.097227  \n",
       "bedroomcnt                            -0.202246      -0.055394  \n",
       "calculatedfinishedsquarefeet          -0.165004       0.065653  \n",
       "latitude                               0.172342      -0.027326  \n",
       "longitude                              0.147939       0.087460  \n",
       "lotsizesquarefeet                     -0.247315       0.006039  \n",
       "yearbuilt                              0.144235       0.170597  \n",
       "taxvaluedollarcnt                      0.881391       0.070290  \n",
       "logerror                              -0.064597       0.036745  \n",
       "age                                   -0.144235      -0.170597  \n",
       "taxvalue_per_sqft                      1.000000       0.047972  \n",
       "month_of_sale                          0.047972       1.000000  "
      ]
     },
     "execution_count": 295,
     "metadata": {},
     "output_type": "execute_result"
    }
   ],
   "source": [
    "Region_5C.corr()"
   ]
  },
  {
   "cell_type": "markdown",
   "id": "91682dcf",
   "metadata": {},
   "source": [
    "**Notes:**\n",
    "- Highest correlation values associated with logerror is lotsizesquarefeet, bathroomcnt, bedroomcnt, latitude, age."
   ]
  },
  {
   "cell_type": "markdown",
   "id": "ad6dd08f",
   "metadata": {},
   "source": [
    "#### Modeled on lot size, bathroom count, bedroom count, latitude, and age."
   ]
  },
  {
   "cell_type": "code",
   "execution_count": 378,
   "id": "f0183103",
   "metadata": {},
   "outputs": [],
   "source": [
    "X_train = Region_5C.drop(columns =['fips', 'longitude', 'calculatedfinishedsquarefeet',\n",
    "                                       'yearbuilt', 'taxvaluedollarcnt',\n",
    "                                      'logerror', 'transactiondate', 'propertylandusedesc',\n",
    "                                       'taxvalue_per_sqft', 'month_of_sale', 'clusters', 'clusters_by_lat_long'])\n",
    "y_train = Region_5C['logerror']\n",
    "\n",
    "X_validate = Region_5C.drop(columns =['fips', 'longitude', 'calculatedfinishedsquarefeet',\n",
    "                                       'yearbuilt', 'taxvaluedollarcnt',\n",
    "                                      'logerror', 'transactiondate', 'propertylandusedesc',\n",
    "                                       'taxvalue_per_sqft', 'month_of_sale', 'clusters', 'clusters_by_lat_long'])\n",
    "y_validate = Region_5C['logerror']\n",
    "\n",
    "X_test = Region_5C.drop(columns =['fips', 'longitude', 'calculatedfinishedsquarefeet',\n",
    "                                       'yearbuilt', 'taxvaluedollarcnt',\n",
    "                                      'logerror', 'transactiondate', 'propertylandusedesc',\n",
    "                                       'taxvalue_per_sqft', 'month_of_sale', 'clusters', 'clusters_by_lat_long'])\n",
    "y_test = Region_5C['logerror']"
   ]
  },
  {
   "cell_type": "code",
   "execution_count": 379,
   "id": "453ee27e",
   "metadata": {},
   "outputs": [],
   "source": [
    "y_train = pd.DataFrame(y_train)\n",
    "y_validate = pd.DataFrame(y_validate)"
   ]
  },
  {
   "cell_type": "code",
   "execution_count": 380,
   "id": "e61ffbaf",
   "metadata": {},
   "outputs": [],
   "source": [
    "# make the polynomial features to get a new set of features\n",
    "pf = PolynomialFeatures(degree=3)"
   ]
  },
  {
   "cell_type": "code",
   "execution_count": 381,
   "id": "f0ba3617",
   "metadata": {},
   "outputs": [
    {
     "data": {
      "text/html": [
       "<div>\n",
       "<style scoped>\n",
       "    .dataframe tbody tr th:only-of-type {\n",
       "        vertical-align: middle;\n",
       "    }\n",
       "\n",
       "    .dataframe tbody tr th {\n",
       "        vertical-align: top;\n",
       "    }\n",
       "\n",
       "    .dataframe thead th {\n",
       "        text-align: right;\n",
       "    }\n",
       "</style>\n",
       "<table border=\"1\" class=\"dataframe\">\n",
       "  <thead>\n",
       "    <tr style=\"text-align: right;\">\n",
       "      <th></th>\n",
       "      <th>bathroomcnt</th>\n",
       "      <th>bedroomcnt</th>\n",
       "      <th>calculatedfinishedsquarefeet</th>\n",
       "      <th>fips</th>\n",
       "      <th>latitude</th>\n",
       "      <th>longitude</th>\n",
       "      <th>lotsizesquarefeet</th>\n",
       "      <th>yearbuilt</th>\n",
       "      <th>taxvaluedollarcnt</th>\n",
       "      <th>logerror</th>\n",
       "      <th>transactiondate</th>\n",
       "      <th>propertylandusedesc</th>\n",
       "      <th>age</th>\n",
       "      <th>taxvalue_per_sqft</th>\n",
       "      <th>month_of_sale</th>\n",
       "      <th>clusters_by_lat_long</th>\n",
       "      <th>clusters</th>\n",
       "    </tr>\n",
       "  </thead>\n",
       "  <tbody>\n",
       "    <tr>\n",
       "      <th>30300</th>\n",
       "      <td>0.333333</td>\n",
       "      <td>0.666667</td>\n",
       "      <td>0.238988</td>\n",
       "      <td>Orange</td>\n",
       "      <td>0.195123</td>\n",
       "      <td>0.930407</td>\n",
       "      <td>0.532057</td>\n",
       "      <td>0.520408</td>\n",
       "      <td>0.276134</td>\n",
       "      <td>0.010291</td>\n",
       "      <td>2017-06-09</td>\n",
       "      <td>Single Family Residential</td>\n",
       "      <td>0.479592</td>\n",
       "      <td>0.405724</td>\n",
       "      <td>0.625</td>\n",
       "      <td>Region 5</td>\n",
       "      <td>Region 5E</td>\n",
       "    </tr>\n",
       "    <tr>\n",
       "      <th>27053</th>\n",
       "      <td>0.500000</td>\n",
       "      <td>0.333333</td>\n",
       "      <td>0.478304</td>\n",
       "      <td>Orange</td>\n",
       "      <td>0.052562</td>\n",
       "      <td>0.977282</td>\n",
       "      <td>0.446271</td>\n",
       "      <td>0.591837</td>\n",
       "      <td>0.122414</td>\n",
       "      <td>0.007466</td>\n",
       "      <td>2017-05-26</td>\n",
       "      <td>Single Family Residential</td>\n",
       "      <td>0.408163</td>\n",
       "      <td>0.107744</td>\n",
       "      <td>0.500</td>\n",
       "      <td>Region 5</td>\n",
       "      <td>Region 5D</td>\n",
       "    </tr>\n",
       "    <tr>\n",
       "      <th>26338</th>\n",
       "      <td>0.666667</td>\n",
       "      <td>0.333333</td>\n",
       "      <td>0.929323</td>\n",
       "      <td>Orange</td>\n",
       "      <td>0.215144</td>\n",
       "      <td>0.968657</td>\n",
       "      <td>0.599783</td>\n",
       "      <td>0.734694</td>\n",
       "      <td>0.903388</td>\n",
       "      <td>-0.032208</td>\n",
       "      <td>2017-05-23</td>\n",
       "      <td>Single Family Residential</td>\n",
       "      <td>0.265306</td>\n",
       "      <td>0.483165</td>\n",
       "      <td>0.500</td>\n",
       "      <td>Region 5</td>\n",
       "      <td>Region 5A</td>\n",
       "    </tr>\n",
       "    <tr>\n",
       "      <th>35131</th>\n",
       "      <td>0.666667</td>\n",
       "      <td>0.666667</td>\n",
       "      <td>0.999343</td>\n",
       "      <td>Orange</td>\n",
       "      <td>0.212333</td>\n",
       "      <td>0.969040</td>\n",
       "      <td>0.419180</td>\n",
       "      <td>0.765306</td>\n",
       "      <td>0.839831</td>\n",
       "      <td>0.050475</td>\n",
       "      <td>2017-06-29</td>\n",
       "      <td>Single Family Residential</td>\n",
       "      <td>0.234694</td>\n",
       "      <td>0.420875</td>\n",
       "      <td>0.625</td>\n",
       "      <td>Region 5</td>\n",
       "      <td>Region 5A</td>\n",
       "    </tr>\n",
       "    <tr>\n",
       "      <th>46323</th>\n",
       "      <td>0.500000</td>\n",
       "      <td>0.333333</td>\n",
       "      <td>0.340894</td>\n",
       "      <td>Orange</td>\n",
       "      <td>0.085275</td>\n",
       "      <td>0.956106</td>\n",
       "      <td>0.070255</td>\n",
       "      <td>0.591837</td>\n",
       "      <td>0.539165</td>\n",
       "      <td>-0.009863</td>\n",
       "      <td>2017-08-21</td>\n",
       "      <td>Single Family Residential</td>\n",
       "      <td>0.408163</td>\n",
       "      <td>0.632997</td>\n",
       "      <td>0.875</td>\n",
       "      <td>Region 5</td>\n",
       "      <td>Region 5D</td>\n",
       "    </tr>\n",
       "  </tbody>\n",
       "</table>\n",
       "</div>"
      ],
      "text/plain": [
       "       bathroomcnt  bedroomcnt  calculatedfinishedsquarefeet    fips  \\\n",
       "30300     0.333333    0.666667                      0.238988  Orange   \n",
       "27053     0.500000    0.333333                      0.478304  Orange   \n",
       "26338     0.666667    0.333333                      0.929323  Orange   \n",
       "35131     0.666667    0.666667                      0.999343  Orange   \n",
       "46323     0.500000    0.333333                      0.340894  Orange   \n",
       "\n",
       "       latitude  longitude  lotsizesquarefeet  yearbuilt  taxvaluedollarcnt  \\\n",
       "30300  0.195123   0.930407           0.532057   0.520408           0.276134   \n",
       "27053  0.052562   0.977282           0.446271   0.591837           0.122414   \n",
       "26338  0.215144   0.968657           0.599783   0.734694           0.903388   \n",
       "35131  0.212333   0.969040           0.419180   0.765306           0.839831   \n",
       "46323  0.085275   0.956106           0.070255   0.591837           0.539165   \n",
       "\n",
       "       logerror transactiondate        propertylandusedesc       age  \\\n",
       "30300  0.010291      2017-06-09  Single Family Residential  0.479592   \n",
       "27053  0.007466      2017-05-26  Single Family Residential  0.408163   \n",
       "26338 -0.032208      2017-05-23  Single Family Residential  0.265306   \n",
       "35131  0.050475      2017-06-29  Single Family Residential  0.234694   \n",
       "46323 -0.009863      2017-08-21  Single Family Residential  0.408163   \n",
       "\n",
       "       taxvalue_per_sqft  month_of_sale clusters_by_lat_long   clusters  \n",
       "30300           0.405724          0.625             Region 5  Region 5E  \n",
       "27053           0.107744          0.500             Region 5  Region 5D  \n",
       "26338           0.483165          0.500             Region 5  Region 5A  \n",
       "35131           0.420875          0.625             Region 5  Region 5A  \n",
       "46323           0.632997          0.875             Region 5  Region 5D  "
      ]
     },
     "execution_count": 381,
     "metadata": {},
     "output_type": "execute_result"
    }
   ],
   "source": [
    "Region_5.head()"
   ]
  },
  {
   "cell_type": "code",
   "execution_count": 382,
   "id": "21edaa59",
   "metadata": {},
   "outputs": [],
   "source": [
    "# fit and transform X_train_scaled\n",
    "X_train_degree3 = pf.fit_transform(X_train)"
   ]
  },
  {
   "cell_type": "code",
   "execution_count": 383,
   "id": "a2871081",
   "metadata": {},
   "outputs": [],
   "source": [
    "# transform X_validate_scaled & X_test_scaled\n",
    "X_validate_degree3 = pf.transform(X_validate)\n",
    "X_test_degree3 = pf.transform(X_test)"
   ]
  },
  {
   "cell_type": "code",
   "execution_count": 384,
   "id": "0cae6d99",
   "metadata": {},
   "outputs": [],
   "source": [
    "# create the model\n",
    "lm3 = LinearRegression(normalize=True)"
   ]
  },
  {
   "cell_type": "code",
   "execution_count": 385,
   "id": "82fb499c",
   "metadata": {},
   "outputs": [
    {
     "data": {
      "text/plain": [
       "LinearRegression(normalize=True)"
      ]
     },
     "execution_count": 385,
     "metadata": {},
     "output_type": "execute_result"
    }
   ],
   "source": [
    "# fit the model\n",
    "lm3.fit(X_train_degree3, y_train.logerror)"
   ]
  },
  {
   "cell_type": "code",
   "execution_count": 386,
   "id": "31a27d94",
   "metadata": {},
   "outputs": [],
   "source": [
    "# predict train\n",
    "y_train['LE_pred_lm3'] = lm3.predict(X_train_degree3)"
   ]
  },
  {
   "cell_type": "code",
   "execution_count": 387,
   "id": "dd8dbbd0",
   "metadata": {},
   "outputs": [],
   "source": [
    "# evaluate: rmse\n",
    "rmse_train = mean_squared_error(y_train.logerror, y_train.LE_pred_lm3)**(1/2)"
   ]
  },
  {
   "cell_type": "code",
   "execution_count": 388,
   "id": "4cf7b0e9",
   "metadata": {},
   "outputs": [],
   "source": [
    "# predict validate\n",
    "y_validate['LE_pred_lm3'] = lm3.predict(X_validate_degree3)"
   ]
  },
  {
   "cell_type": "code",
   "execution_count": 389,
   "id": "26dee31b",
   "metadata": {},
   "outputs": [],
   "source": [
    "# evaluate: rmse\n",
    "rmse_validate = mean_squared_error(y_validate.logerror, y_validate.LE_pred_lm3)**(1/2)"
   ]
  },
  {
   "cell_type": "code",
   "execution_count": 390,
   "id": "8e90cfe1",
   "metadata": {},
   "outputs": [
    {
     "name": "stdout",
     "output_type": "stream",
     "text": [
      "RMSE for Polynomial Model, degrees=3\n",
      "Training/In-Sample:  0.032560364970144216 \n",
      "Validation/Out-of-Sample:  0.032560364970144216\n"
     ]
    }
   ],
   "source": [
    "print(\"RMSE for Polynomial Model, degrees=3\\nTraining/In-Sample: \", rmse_train, \n",
    "      \"\\nValidation/Out-of-Sample: \", rmse_validate)"
   ]
  },
  {
   "cell_type": "markdown",
   "id": "9994ef5a",
   "metadata": {},
   "source": [
    "### Test the model"
   ]
  },
  {
   "cell_type": "code",
   "execution_count": 391,
   "id": "58cbf8f9",
   "metadata": {},
   "outputs": [],
   "source": [
    "y_test = pd.DataFrame(y_test)"
   ]
  },
  {
   "cell_type": "code",
   "execution_count": 392,
   "id": "922ff387",
   "metadata": {},
   "outputs": [],
   "source": [
    "# predict test\n",
    "y_test['LE_pred_lm3'] = lm3.predict(X_test_degree3)"
   ]
  },
  {
   "cell_type": "code",
   "execution_count": 393,
   "id": "5c89a737",
   "metadata": {},
   "outputs": [],
   "source": [
    "# evaluate: rmse\n",
    "rmse_test = mean_squared_error(y_test.logerror, y_test.LE_pred_lm3)**(1/2)"
   ]
  },
  {
   "cell_type": "code",
   "execution_count": 394,
   "id": "485ad537",
   "metadata": {},
   "outputs": [
    {
     "name": "stdout",
     "output_type": "stream",
     "text": [
      "RMSE for Polynomial Model, degrees=3\n",
      "Testing/Out-of-Sample:  0.032560364970144216\n"
     ]
    }
   ],
   "source": [
    "print(\"RMSE for Polynomial Model, degrees=3\\nTesting/Out-of-Sample: \", rmse_test)"
   ]
  },
  {
   "attachments": {
    "Screen%20Shot%202022-06-19%20at%2011.36.53%20PM.png": {
     "image/png": "[encoded data removed]"
    }
   },
   "cell_type": "markdown",
   "id": "e697e4d7",
   "metadata": {},
   "source": [
    "![Screen%20Shot%202022-06-19%20at%2011.36.53%20PM.png](attachment:Screen%20Shot%202022-06-19%20at%2011.36.53%20PM.png)"
   ]
  },
  {
   "cell_type": "code",
   "execution_count": 460,
   "id": "79b91a58",
   "metadata": {},
   "outputs": [
    {
     "data": {
      "text/plain": [
       "0.7625292740046837"
      ]
     },
     "execution_count": 460,
     "metadata": {},
     "output_type": "execute_result"
    }
   ],
   "source": [
    ".03256/.04270"
   ]
  },
  {
   "cell_type": "markdown",
   "id": "6b5c9a2b",
   "metadata": {},
   "source": [
    "### Conclusion:\n",
    " - Clusters were created geographically, allowing for modeling on smaller geographical areas.\n",
    " - Polynomial regression beat baseline in 4 out of 7 counties.\n",
    "     - Determine the significance level in improvements of models from baseline.\n",
    " \n",
    "- With additional time:\n",
    "     - Continue exploration on features within regions.\n",
    "     - Explore different models per region.\n",
    "     "
   ]
  },
  {
   "cell_type": "code",
   "execution_count": null,
   "id": "5629eefb",
   "metadata": {},
   "outputs": [],
   "source": []
  }
 ],
 "metadata": {
  "kernelspec": {
   "display_name": "Python 3 (ipykernel)",
   "language": "python",
   "name": "python3"
  },
  "language_info": {
   "codemirror_mode": {
    "name": "ipython",
    "version": 3
   },
   "file_extension": ".py",
   "mimetype": "text/x-python",
   "name": "python",
   "nbconvert_exporter": "python",
   "pygments_lexer": "ipython3",
   "version": "3.9.7"
  }
 },
 "nbformat": 4,
 "nbformat_minor": 5
}
